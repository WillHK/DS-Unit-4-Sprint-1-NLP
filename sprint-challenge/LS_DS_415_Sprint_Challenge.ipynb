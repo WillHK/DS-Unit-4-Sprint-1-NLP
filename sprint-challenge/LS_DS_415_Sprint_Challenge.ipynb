{
 "cells": [
  {
   "cell_type": "markdown",
   "metadata": {},
   "source": [
    "<img align=\"left\" src=\"https://lever-client-logos.s3.amazonaws.com/864372b1-534c-480e-acd5-9711f850815c-1524247202159.png\" width=200>\n",
    "<br></br>\n",
    "<br></br>\n",
    "\n",
    "# Sprint Challenge\n",
    "## *Data Science Unit 4 Sprint 1*\n",
    "\n",
    "After a week of Natural Language Processing, you've learned some cool new stuff: how to process text, how turn text into vectors, and how to model topics from documents. Apply your newly acquired skills to one of the most famous NLP datasets out there: [Yelp](https://www.yelp.com/dataset/challenge). As part of the job selection process, some of my friends have been asked to create analysis of this dataset, so I want to empower you to have a head start.  \n",
    "\n",
    "The real dataset is massive (almost 8 gigs uncompressed). I've sampled the data for you to something more managable for the Sprint Challenge. You can analyze the full dataset as a stretch goal or after the sprint challenge. As you work on the challenge, I suggest adding notes about your findings and things you want to analyze in the future.\n",
    "\n",
    "## Challenge Objectives\n",
    "*Successfully complete these all these objectives to earn a 2. There are more details on each objective further down in the notebook.*\n",
    "* <a href=\"#p1\">Part 1</a>: Write a function to tokenize the yelp reviews\n",
    "* <a href=\"#p2\">Part 2</a>: Create a vector representation of those tokens\n",
    "* <a href=\"#p3\">Part 3</a>: Use your tokens in a classification model on yelp rating\n",
    "* <a href=\"#p4\">Part 4</a>: Estimate & Interpret a topic model of the Yelp reviews"
   ]
  },
  {
   "cell_type": "code",
   "execution_count": 1,
   "metadata": {},
   "outputs": [],
   "source": [
    "import pandas as pd\n",
    "import pandas as pd\n",
    "import numpy as np\n",
    "import gensim\n",
    "import os\n",
    "import re\n",
    "\n",
    "from gensim.utils import simple_preprocess\n",
    "from gensim.parsing.preprocessing import STOPWORDS\n",
    "from gensim import corpora\n",
    "\n",
    "from gensim.models.ldamulticore import LdaMulticore\n",
    "\n",
    "yelp = pd.read_json('./data/review_sample.json', lines=True)"
   ]
  },
  {
   "cell_type": "code",
   "execution_count": 2,
   "metadata": {},
   "outputs": [
    {
     "data": {
      "text/html": [
       "<div>\n",
       "<style scoped>\n",
       "    .dataframe tbody tr th:only-of-type {\n",
       "        vertical-align: middle;\n",
       "    }\n",
       "\n",
       "    .dataframe tbody tr th {\n",
       "        vertical-align: top;\n",
       "    }\n",
       "\n",
       "    .dataframe thead th {\n",
       "        text-align: right;\n",
       "    }\n",
       "</style>\n",
       "<table border=\"1\" class=\"dataframe\">\n",
       "  <thead>\n",
       "    <tr style=\"text-align: right;\">\n",
       "      <th></th>\n",
       "      <th>business_id</th>\n",
       "      <th>cool</th>\n",
       "      <th>date</th>\n",
       "      <th>funny</th>\n",
       "      <th>review_id</th>\n",
       "      <th>stars</th>\n",
       "      <th>text</th>\n",
       "      <th>useful</th>\n",
       "      <th>user_id</th>\n",
       "    </tr>\n",
       "  </thead>\n",
       "  <tbody>\n",
       "    <tr>\n",
       "      <th>0</th>\n",
       "      <td>nDuEqIyRc8YKS1q1fX0CZg</td>\n",
       "      <td>1</td>\n",
       "      <td>2015-03-31 16:50:30</td>\n",
       "      <td>0</td>\n",
       "      <td>eZs2tpEJtXPwawvHnHZIgQ</td>\n",
       "      <td>1</td>\n",
       "      <td>BEWARE!!! FAKE, FAKE, FAKE....We also own a sm...</td>\n",
       "      <td>10</td>\n",
       "      <td>n1LM36qNg4rqGXIcvVXv8w</td>\n",
       "    </tr>\n",
       "    <tr>\n",
       "      <th>1</th>\n",
       "      <td>eMYeEapscbKNqUDCx705hg</td>\n",
       "      <td>0</td>\n",
       "      <td>2015-12-16 05:31:03</td>\n",
       "      <td>0</td>\n",
       "      <td>DoQDWJsNbU0KL1O29l_Xug</td>\n",
       "      <td>4</td>\n",
       "      <td>Came here for lunch Togo. Service was quick. S...</td>\n",
       "      <td>0</td>\n",
       "      <td>5CgjjDAic2-FAvCtiHpytA</td>\n",
       "    </tr>\n",
       "    <tr>\n",
       "      <th>2</th>\n",
       "      <td>6Q7-wkCPc1KF75jZLOTcMw</td>\n",
       "      <td>1</td>\n",
       "      <td>2010-06-20 19:14:48</td>\n",
       "      <td>1</td>\n",
       "      <td>DDOdGU7zh56yQHmUnL1idQ</td>\n",
       "      <td>3</td>\n",
       "      <td>I've been to Vegas dozens of times and had nev...</td>\n",
       "      <td>2</td>\n",
       "      <td>BdV-cf3LScmb8kZ7iiBcMA</td>\n",
       "    </tr>\n",
       "    <tr>\n",
       "      <th>3</th>\n",
       "      <td>k3zrItO4l9hwfLRwHBDc9w</td>\n",
       "      <td>3</td>\n",
       "      <td>2010-07-13 00:33:45</td>\n",
       "      <td>4</td>\n",
       "      <td>LfTMUWnfGFMOfOIyJcwLVA</td>\n",
       "      <td>1</td>\n",
       "      <td>We went here on a night where they closed off ...</td>\n",
       "      <td>5</td>\n",
       "      <td>cZZnBqh4gAEy4CdNvJailQ</td>\n",
       "    </tr>\n",
       "    <tr>\n",
       "      <th>4</th>\n",
       "      <td>6hpfRwGlOzbNv7k5eP9rsQ</td>\n",
       "      <td>1</td>\n",
       "      <td>2018-06-30 02:30:01</td>\n",
       "      <td>0</td>\n",
       "      <td>zJSUdI7bJ8PNJAg4lnl_Gg</td>\n",
       "      <td>4</td>\n",
       "      <td>3.5 to 4 stars\\n\\nNot bad for the price, $12.9...</td>\n",
       "      <td>5</td>\n",
       "      <td>n9QO4ClYAS7h9fpQwa5bhA</td>\n",
       "    </tr>\n",
       "  </tbody>\n",
       "</table>\n",
       "</div>"
      ],
      "text/plain": [
       "              business_id  cool                date  funny  \\\n",
       "0  nDuEqIyRc8YKS1q1fX0CZg     1 2015-03-31 16:50:30      0   \n",
       "1  eMYeEapscbKNqUDCx705hg     0 2015-12-16 05:31:03      0   \n",
       "2  6Q7-wkCPc1KF75jZLOTcMw     1 2010-06-20 19:14:48      1   \n",
       "3  k3zrItO4l9hwfLRwHBDc9w     3 2010-07-13 00:33:45      4   \n",
       "4  6hpfRwGlOzbNv7k5eP9rsQ     1 2018-06-30 02:30:01      0   \n",
       "\n",
       "                review_id  stars  \\\n",
       "0  eZs2tpEJtXPwawvHnHZIgQ      1   \n",
       "1  DoQDWJsNbU0KL1O29l_Xug      4   \n",
       "2  DDOdGU7zh56yQHmUnL1idQ      3   \n",
       "3  LfTMUWnfGFMOfOIyJcwLVA      1   \n",
       "4  zJSUdI7bJ8PNJAg4lnl_Gg      4   \n",
       "\n",
       "                                                text  useful  \\\n",
       "0  BEWARE!!! FAKE, FAKE, FAKE....We also own a sm...      10   \n",
       "1  Came here for lunch Togo. Service was quick. S...       0   \n",
       "2  I've been to Vegas dozens of times and had nev...       2   \n",
       "3  We went here on a night where they closed off ...       5   \n",
       "4  3.5 to 4 stars\\n\\nNot bad for the price, $12.9...       5   \n",
       "\n",
       "                  user_id  \n",
       "0  n1LM36qNg4rqGXIcvVXv8w  \n",
       "1  5CgjjDAic2-FAvCtiHpytA  \n",
       "2  BdV-cf3LScmb8kZ7iiBcMA  \n",
       "3  cZZnBqh4gAEy4CdNvJailQ  \n",
       "4  n9QO4ClYAS7h9fpQwa5bhA  "
      ]
     },
     "execution_count": 2,
     "metadata": {},
     "output_type": "execute_result"
    }
   ],
   "source": [
    "yelp.head()"
   ]
  },
  {
   "cell_type": "markdown",
   "metadata": {},
   "source": [
    "## Part 1: Tokenize Function\n",
    "<a id=\"#p1\"></a>\n",
    "\n",
    "Complete the function `tokenize`. Your function should\n",
    "- accept one document at a time\n",
    "- return a list of tokens\n",
    "\n",
    "You are free to use any method you have learned this week."
   ]
  },
  {
   "cell_type": "code",
   "execution_count": 2,
   "metadata": {},
   "outputs": [],
   "source": [
    "def tokenize(doc):\n",
    "    \n",
    "    return [token for token in simple_preprocess(doc) if token not in STOPWORDS]"
   ]
  },
  {
   "cell_type": "markdown",
   "metadata": {},
   "source": [
    "## Part 2: Vector Representation\n",
    "<a id=\"#p2\"></a>\n",
    "1. Create a vector representation of the reviews\n",
    "2. Write a fake review and query for the 10 most similiar reviews, print the text of the reviews. Do you notice any patterns?\n",
    "    - Given the size of the dataset, it will probably be best to use a `NearestNeighbors` model for this. "
   ]
  },
  {
   "cell_type": "code",
   "execution_count": 12,
   "metadata": {},
   "outputs": [],
   "source": [
    "from sklearn.neighbors import NearestNeighbors"
   ]
  },
  {
   "cell_type": "code",
   "execution_count": 10,
   "metadata": {},
   "outputs": [],
   "source": [
    "from sklearn.feature_extraction.text import TfidfVectorizer\n",
    "from sklearn.pipeline import Pipeline\n",
    "from sklearn.linear_model import SGDClassifier\n",
    "import spacy\n",
    "nlp = spacy.load(\"en_core_web_lg\")"
   ]
  },
  {
   "cell_type": "code",
   "execution_count": 15,
   "metadata": {},
   "outputs": [],
   "source": [
    "vect = TfidfVectorizer(stop_words='english', tokenizer=tokenize)\n",
    "sgdc = SGDClassifier()\n",
    "\n",
    "def get_word_vectors(doc):\n",
    "    return [nlp(doc).vector]\n",
    "\n",
    "yelp['vectors'] = yelp['text'].apply(get_word_vectors)"
   ]
  },
  {
   "cell_type": "code",
   "execution_count": 19,
   "metadata": {},
   "outputs": [],
   "source": [
    "def distance(instance1, instance2):\n",
    "    # just in case, if the instances are lists or tuples:\n",
    "    instance1 = np.array(instance1) \n",
    "    instance2 = np.array(instance2)\n",
    "    \n",
    "    return np.linalg.norm(instance1 - instance2)"
   ]
  },
  {
   "cell_type": "code",
   "execution_count": 20,
   "metadata": {},
   "outputs": [
    {
     "data": {
      "text/plain": [
       "1.3356242"
      ]
     },
     "execution_count": 20,
     "metadata": {},
     "output_type": "execute_result"
    }
   ],
   "source": [
    "distance(vectors[0], vectors[1])"
   ]
  },
  {
   "cell_type": "code",
   "execution_count": 21,
   "metadata": {},
   "outputs": [],
   "source": [
    "nbrs = NearestNeighbors(n_neighbors=2, algorithm='ball_tree').fit(list(yelp['vectors']))"
   ]
  },
  {
   "cell_type": "code",
   "execution_count": 24,
   "metadata": {},
   "outputs": [],
   "source": [
    "fake_review = \"The food was pretty mediocre, I don't think I'll be returning.\"\n",
    "\n",
    "fake_vector = get_word_vectors(fake_review)\n",
    "\n",
    "dist, ind = nbrs.kneighbors(fake_vector.reshape(1, -1), 10)"
   ]
  },
  {
   "cell_type": "code",
   "execution_count": 33,
   "metadata": {},
   "outputs": [
    {
     "name": "stdout",
     "output_type": "stream",
     "text": [
      "I absolutely love Hash Kitchen! I've been to a different location and really loved it and am so happy that they opened one in Chandler!\n",
      "\n",
      "It was awhile since I've been there but I ordered pancakes, I want to say it was Boston creme or something custard. ( I can't find it on their website) It was really good and a very large portion. \n",
      "\n",
      "We came on a Saturday morning so it was really busy. The wait was about 30 minutes or so. I'm not sure if they do reservations, but if they do, you should definitely make one. I really wish that I could drink, because their drink menu looks amazing!They also have a dj there on Saturdays, which is good and bad. Good because they played really good music, bad because it was really loud, so I couldn't hear my friend that well.\n",
      "I love Dairy Queen very much which is why I don't want to say anything bad but I go here fairly often and each time I come something almost gets missed. I really love the ice cream so I would be devastated if I didn't get it because they forgot I ordered it. Sometimes I'm not sure if they know what they are doing. Other than that people are very nice here.\n",
      "To be honest I have been tardy in reviewing the places I have eaten in the last couple of months. I really don't remember being here or what I ate. I will have to check it out again. \n",
      "\n",
      "If it was the soup and sandwich place it was great. Otherwise I don't remember! ha!\n",
      "The server mostly sometimes are nice, I love the food I'm not going to lie about it but it's kinda crowded.\n",
      "\"Meh\" is exactly how I'd characterize this place. Their iced-coffee doesn't taste good.  I don't really like the ambiance there. The seats are uncomfortable. I came here twice and I won't be returning, sorry.\n",
      "Where to begin.  I REALLY want to like this place and I'll start with the GOOD.  I love the bread and the Pork Chili Verde is good.  Oh and that St Francis lemonaid with the honey vodka is GREAT.  I've been there at least 4 times, but I'm not enough of a fan to go back because I crave it.  It's usually because someone I'm going with hasn't tried it yet and I'm going along to see if it's gotten better. \n",
      "\n",
      "Maybe I'm wrong or maybe this isn't my kind of place, but for all intents and purposes THIS SHOULD BE.... The decor is great, the area is where all my favorite places are, the owner/chef is really nice all the time, but I just don't get it... I don't LOVE IT.\n",
      "\n",
      "Couple of things that are a little CONS... I don't get why the part where you walk in is all gravel, it makes the entrance confusing since the sidewalk leads to the BACK.\n",
      "\n",
      "I've had 2 instances were I've been treated in a CHILLY manner by the 2 different hostesses.  Alright, I'll just say it, they were kinda rude. That being said I go to a lot of places where I don't love the service, but I go back because at the end of the day, I can't get the food that I like anywhere else.  In regards to St, Francis I can get this food many other places.  It's honestly just blah. \n",
      "\n",
      "I'd take my grandparents here and honestly they'd love it, but I don't think that's a selling point. The food needs some UMPH! I need some flavor that makes my mouth water. I'll keep my fingers crossed that it gets better, I really want a new local hangout place since a lot of places that are non chain have been closing up these days.\n",
      "This place was alright, just not what I was hoping for. The curry was a little too soupy for my liking. The customer service was great, we had a really nice waitress but unfortunately I don't think that would be enough for me to want to go back.\n",
      "So I was a bit shocked to see Maharaja was replaced, and I went in to their lunch buffet to compare (with a skeptical pallet). I don't understand why some people said it was worse than before, I thought it was fantastic! Pretty much the exact same menu and selections as before, except it seems to be even a little bit better, but I just can't put my finger on why. \n",
      "\n",
      "I'm a big eater; I always get my money's worth. I tried almost everything at the buffet, it was all as good as if not better than Maharaja used to be. I'd definitely say it's a step up not a step down. Don't fear change, it's not a bad thing in this case!\n",
      "Honestly? I didn't care for this place. I get they're trying to be authentic to mexican style of ordering tacos, but we're in America, and it's confusing. \n",
      "\n",
      "I speak spanish and I asked for salsa, dude looked at me like I was an alien, they don't speak English so I don't know what was hard to understand.\n",
      "\n",
      "Prices are too high, flies, meh service, confusing setup. Needless to say we haven't been back.\n",
      "With so many options for coffee downtown I don't know if they have the muster to compete. The cappuccino I order was good, but not remarkable, and sadly I probably won't return. The interior seemed half finished so maybe they just opened and haven't gotten the swing of things yet.\n"
     ]
    }
   ],
   "source": [
    "for indice in ind[0]:\n",
    "    print(yelp.iloc[indice]['text'])\n"
   ]
  },
  {
   "cell_type": "markdown",
   "metadata": {},
   "source": [
    "#### Not sure there's a strong correlation between the reviews. I suspect it's because I didn't write a very long review so it didn't have a large enough group of vectors to be similar enough to other reviews."
   ]
  },
  {
   "cell_type": "markdown",
   "metadata": {},
   "source": [
    "## Part 3: Classification\n",
    "<a id=\"#p3\"></a>\n",
    "Your goal in this section will be to predict `stars` from the review dataset. \n",
    "\n",
    "1. Create a piepline object with a sklearn `CountVectorizer` or `TfidfVector` and any sklearn classifier. Use that pipeline to estimate a model to predict `stars`. Use the Pipeline to predict a star rating for your fake review from Part 2. \n",
    "2. Tune the entire pipeline with a GridSearch"
   ]
  },
  {
   "cell_type": "code",
   "execution_count": 36,
   "metadata": {},
   "outputs": [
    {
     "name": "stderr",
     "output_type": "stream",
     "text": [
      "/usr/local/anaconda3/envs/nlp/lib/python3.7/site-packages/sklearn/linear_model/stochastic_gradient.py:166: FutureWarning: max_iter and tol parameters have been added in SGDClassifier in 0.19. If both are left unset, they default to max_iter=5 and tol=None. If tol is not None, max_iter defaults to max_iter=1000. From 0.21, default max_iter will be 1000, and default tol will be 1e-3.\n",
      "  FutureWarning)\n"
     ]
    },
    {
     "data": {
      "text/plain": [
       "Pipeline(memory=None,\n",
       "     steps=[('vect', TfidfVectorizer(analyzer='word', binary=False, decode_error='strict',\n",
       "        dtype=<class 'numpy.float64'>, encoding='utf-8', input='content',\n",
       "        lowercase=True, max_df=1.0, max_features=None, min_df=1,\n",
       "        ngram_range=(1, 1), norm='l2', preprocessor=None, smooth_idf=True,\n",
       "...m_state=None, shuffle=True, tol=None,\n",
       "       validation_fraction=0.1, verbose=0, warm_start=False))])"
      ]
     },
     "execution_count": 36,
     "metadata": {},
     "output_type": "execute_result"
    }
   ],
   "source": [
    "pipe = Pipeline([('vect', vect), ('clf', sgdc)])\n",
    "X = yelp['text']\n",
    "y = yelp['stars']\n",
    "pipe.fit(X, y)"
   ]
  },
  {
   "cell_type": "code",
   "execution_count": 39,
   "metadata": {},
   "outputs": [
    {
     "data": {
      "text/plain": [
       "2"
      ]
     },
     "execution_count": 39,
     "metadata": {},
     "output_type": "execute_result"
    }
   ],
   "source": [
    "pipe.predict([fake_review])[0]"
   ]
  },
  {
   "cell_type": "markdown",
   "metadata": {},
   "source": [
    "Seems about right, I'll try again with a longer fake review if I have time."
   ]
  },
  {
   "cell_type": "markdown",
   "metadata": {},
   "source": [
    "## Part 4: Topic Modeling\n",
    "\n",
    "Let's find out what those yelp reviews are saying! :D\n",
    "\n",
    "1. Estimate a LDA topic model of the review text\n",
    "2. Create 1-2 visualizations of the results\n",
    "    - You can use the most important 3 words of a topic in relevant visualizations. Refer to yesterday's notebook to extract. \n",
    "3. In markdown, write 1-2 paragraphs of analysis on the results of your topic model\n",
    "\n",
    "__*Note*__: You can pass the DataFrame column of text reviews to gensim. You do not have to use a generator."
   ]
  },
  {
   "cell_type": "code",
   "execution_count": 41,
   "metadata": {},
   "outputs": [],
   "source": [
    "def pd_stream(df):\n",
    "    for index, row in df.iterrows():\n",
    "        text = row['text']\n",
    "        tokens = tokenize(text)\n",
    "        yield tokens"
   ]
  },
  {
   "cell_type": "code",
   "execution_count": 42,
   "metadata": {},
   "outputs": [],
   "source": [
    "id2word = corpora.Dictionary(pd_stream(yelp))"
   ]
  },
  {
   "cell_type": "code",
   "execution_count": 43,
   "metadata": {},
   "outputs": [],
   "source": [
    "corpus = [id2word.doc2bow(text) for text in pd_stream(yelp)]"
   ]
  },
  {
   "cell_type": "code",
   "execution_count": 44,
   "metadata": {},
   "outputs": [],
   "source": [
    "lda_model = gensim.models.ldamodel.LdaModel(corpus=corpus,\n",
    "                                            id2word=id2word,\n",
    "                                            num_topics=10,\n",
    "                                            random_state=42,\n",
    "                                            update_every=1,\n",
    "                                            chunksize=200,\n",
    "                                            passes=10,\n",
    "                                            alpha='auto',\n",
    "                                            per_word_topics=True)"
   ]
  },
  {
   "cell_type": "code",
   "execution_count": 46,
   "metadata": {},
   "outputs": [
    {
     "name": "stdout",
     "output_type": "stream",
     "text": [
      "[(0, '0.024*\"time\" + 0.016*\"got\" + 0.013*\"service\" + 0.012*\"went\" + 0.012*\"like\" + 0.011*\"know\" + 0.011*\"said\" + 0.010*\"people\" + 0.009*\"day\" + 0.009*\"told\"'), (1, '0.022*\"staff\" + 0.021*\"great\" + 0.016*\"recommend\" + 0.015*\"friendly\" + 0.014*\"new\" + 0.012*\"work\" + 0.012*\"service\" + 0.011*\"amazing\" + 0.011*\"ve\" + 0.010*\"best\"'), (2, '0.015*\"dog\" + 0.013*\"completely\" + 0.012*\"recommended\" + 0.012*\"showed\" + 0.011*\"butter\" + 0.011*\"crispy\" + 0.008*\"delivery\" + 0.008*\"dogs\" + 0.008*\"original\" + 0.007*\"mins\"'), (3, '0.033*\"car\" + 0.016*\"company\" + 0.012*\"house\" + 0.009*\"phoenix\" + 0.008*\"certainly\" + 0.007*\"road\" + 0.006*\"lemon\" + 0.006*\"guacamole\" + 0.006*\"moving\" + 0.006*\"poor\"'), (4, '0.041*\"food\" + 0.035*\"good\" + 0.014*\"ordered\" + 0.012*\"chicken\" + 0.012*\"service\" + 0.011*\"restaurant\" + 0.011*\"try\" + 0.011*\"place\" + 0.011*\"delicious\" + 0.010*\"menu\"'), (5, '0.062*\"place\" + 0.043*\"great\" + 0.041*\"love\" + 0.013*\"burger\" + 0.012*\"beer\" + 0.011*\"awesome\" + 0.011*\"favorite\" + 0.011*\"selection\" + 0.010*\"fun\" + 0.009*\"meat\"'), (6, '0.016*\"room\" + 0.015*\"vegas\" + 0.013*\"like\" + 0.012*\"bar\" + 0.012*\"area\" + 0.011*\"nice\" + 0.010*\"coffee\" + 0.009*\"pretty\" + 0.008*\"little\" + 0.008*\"lot\"'), (7, '0.031*\"pizza\" + 0.026*\"cream\" + 0.021*\"cheese\" + 0.021*\"ice\" + 0.013*\"sweet\" + 0.013*\"tea\" + 0.012*\"chocolate\" + 0.010*\"flavors\" + 0.008*\"french\" + 0.006*\"la\"'), (8, '0.010*\"called\" + 0.010*\"store\" + 0.009*\"phone\" + 0.008*\"taking\" + 0.007*\"waste\" + 0.007*\"received\" + 0.006*\"bed\" + 0.006*\"days\" + 0.006*\"discount\" + 0.005*\"pho\"'), (9, '0.013*\"brunch\" + 0.012*\"literally\" + 0.012*\"exactly\" + 0.011*\"pieces\" + 0.010*\"solid\" + 0.010*\"fabulous\" + 0.010*\"buffet\" + 0.007*\"indian\" + 0.007*\"bag\" + 0.007*\"funny\"')]\n"
     ]
    }
   ],
   "source": [
    "print(lda_model.print_topics())\n",
    "doc_lda = lda_model[corpus]"
   ]
  },
  {
   "cell_type": "code",
   "execution_count": null,
   "metadata": {},
   "outputs": [],
   "source": [
    "from gensim.models.coherencemodel import CoherenceModel\n",
    "\n",
    "from gensim.models.coherencemodel import CoherenceModel\n",
    "\n",
    "def compute_coherence_values(dictionary, corpus, df, limit, start=2, step=3, passes=5):\n",
    "    \"\"\"\n",
    "    Compute c_v coherence for various number of topics\n",
    "\n",
    "    Parameters:\n",
    "    ----------\n",
    "    dictionary : Gensim dictionary\n",
    "    corpus : Gensim corpus\n",
    "    path : path to input texts\n",
    "    limit : Max num of topics\n",
    "    passes: the number of times the entire lda model & coherence values are calculated\n",
    "\n",
    "    Returns:\n",
    "    -------\n",
    "    coherence_values : Coherence values corresponding to the LDA model with respective number of topics\n",
    "    \"\"\"\n",
    "    \n",
    "    coherence_values = []\n",
    "    \n",
    "    tokens = list(pd_stream(df))\n",
    "    \n",
    "    for iter_ in range(passes):\n",
    "        for num_topics in range(start, limit, step):\n",
    "            stream = pd_stream(df)\n",
    "            model = LdaMulticore(corpus=corpus, num_topics=num_topics, id2word=dictionary, workers=4)\n",
    "            coherencemodel = CoherenceModel(model=model,dictionary=dictionary,corpus=corpus, coherence='u_mass')\n",
    "            coherence_values.append({'pass': iter_, \n",
    "                                     'num_topics': num_topics, \n",
    "                                     'coherence_score': coherencemodel.get_coherence()\n",
    "                                    })\n",
    "\n",
    "    return coherence_values\n",
    "\n",
    "# Can take a long time to run.\n",
    "coherence_values = compute_coherence_values(dictionary=id2word, \n",
    "                                                        corpus=corpus, \n",
    "                                                        df=yelp, \n",
    "                                                        start=2, \n",
    "                                                        limit=40, \n",
    "                                                        step=6,\n",
    "                                                        passes=3)\n",
    "\n",
    "topic_coherence = pd.DataFrame.from_records(coherence_values)\n",
    "\n",
    "import seaborn as sns"
   ]
  },
  {
   "cell_type": "code",
   "execution_count": 52,
   "metadata": {},
   "outputs": [
    {
     "data": {
      "text/plain": [
       "<matplotlib.axes._subplots.AxesSubplot at 0x7fada12b5160>"
      ]
     },
     "execution_count": 52,
     "metadata": {},
     "output_type": "execute_result"
    },
    {
     "data": {
      "image/png": "[encoded data removed]",
      "text/plain": [
       "<Figure size 432x288 with 1 Axes>"
      ]
     },
     "metadata": {
      "needs_background": "light"
     },
     "output_type": "display_data"
    }
   ],
   "source": [
    "sns.lineplot(x=\"num_topics\", y=\"coherence_score\", data=topic_coherence)"
   ]
  },
  {
   "cell_type": "markdown",
   "metadata": {},
   "source": [
    "# This seems bad. I think the simple_preprocess tokenizer isn't very good? I'm sure I could improve my using spacy or even just tfidvectorizer maybe."
   ]
  },
  {
   "cell_type": "code",
   "execution_count": 47,
   "metadata": {},
   "outputs": [],
   "source": [
    "import pyLDAvis\n",
    "import pyLDAvis.gensim\n",
    "import matplotlib.pyplot as plt\n",
    "%matplotlib inline"
   ]
  },
  {
   "cell_type": "code",
   "execution_count": 48,
   "metadata": {},
   "outputs": [
    {
     "name": "stderr",
     "output_type": "stream",
     "text": [
      "/usr/local/anaconda3/envs/nlp/lib/python3.7/site-packages/pyLDAvis/_prepare.py:257: FutureWarning: Sorting because non-concatenation axis is not aligned. A future version\n",
      "of pandas will change to not sort by default.\n",
      "\n",
      "To accept the future behavior, pass 'sort=False'.\n",
      "\n",
      "To retain the current behavior and silence the warning, pass 'sort=True'.\n",
      "\n",
      "  return pd.concat([default_term_info] + list(topic_dfs))\n"
     ]
    },
    {
     "data": {
      "text/html": [
       "\n",
       "<link rel=\"stylesheet\" type=\"text/css\" href=\"https://cdn.rawgit.com/bmabey/pyLDAvis/files/ldavis.v1.0.0.css\">\n",
       "\n",
       "\n",
       "<div id=\"ldavis_el183851403837375838002372337495\"></div>\n",
       "<script type=\"text/javascript\">\n",
       "\n",
       "var ldavis_el183851403837375838002372337495_data = {\"mdsDat\": {\"x\": [-0.2522803574334686, -0.234316177397057, -0.15169199793996926, -0.15842270271105444, -0.0614714230886784, 0.14106861345278665, 0.1623568035011957, 0.18873606847491334, 0.17247992303837748, 0.1935412501029535], \"y\": [-0.07140873447844236, 0.12795463926519463, 0.18640217730701603, -0.10943477009056105, -0.17081240137315035, -0.22039294199575452, 0.1420234740849168, 0.015038121433641586, 0.08911217449324965, 0.011518261353889706], \"topics\": [1, 2, 3, 4, 5, 6, 7, 8, 9, 10], \"cluster\": [1, 1, 1, 1, 1, 1, 1, 1, 1, 1], \"Freq\": [23.720123291015625, 23.00322914123535, 13.257697105407715, 12.8602294921875, 7.842518329620361, 4.819225788116455, 4.3660688400268555, 3.6470861434936523, 3.625141143798828, 2.858682155609131]}, \"tinfo\": {\"Category\": [\"Default\", \"Default\", \"Default\", \"Default\", \"Default\", \"Default\", \"Default\", \"Default\", \"Default\", \"Default\", \"Default\", \"Default\", \"Default\", \"Default\", \"Default\", \"Default\", \"Default\", \"Default\", \"Default\", \"Default\", \"Default\", \"Default\", \"Default\", \"Default\", \"Default\", \"Default\", \"Default\", \"Default\", \"Default\", \"Default\", \"Topic1\", \"Topic1\", \"Topic1\", \"Topic1\", \"Topic1\", \"Topic1\", \"Topic1\", \"Topic1\", \"Topic1\", \"Topic1\", \"Topic1\", \"Topic1\", \"Topic1\", \"Topic1\", \"Topic1\", \"Topic1\", \"Topic1\", \"Topic1\", \"Topic1\", \"Topic1\", \"Topic1\", \"Topic1\", \"Topic1\", \"Topic1\", \"Topic1\", \"Topic1\", \"Topic1\", \"Topic1\", \"Topic1\", \"Topic1\", \"Topic1\", \"Topic1\", \"Topic1\", \"Topic1\", \"Topic1\", \"Topic1\", \"Topic1\", \"Topic1\", \"Topic1\", \"Topic1\", \"Topic1\", \"Topic1\", \"Topic1\", \"Topic1\", \"Topic1\", \"Topic1\", \"Topic1\", \"Topic1\", \"Topic1\", \"Topic1\", \"Topic2\", \"Topic2\", \"Topic2\", \"Topic2\", \"Topic2\", \"Topic2\", \"Topic2\", \"Topic2\", \"Topic2\", \"Topic2\", \"Topic2\", \"Topic2\", \"Topic2\", \"Topic2\", \"Topic2\", \"Topic2\", \"Topic2\", \"Topic2\", \"Topic2\", \"Topic2\", \"Topic2\", \"Topic2\", \"Topic2\", \"Topic2\", \"Topic2\", \"Topic2\", \"Topic2\", \"Topic2\", \"Topic2\", \"Topic2\", \"Topic2\", \"Topic2\", \"Topic2\", \"Topic2\", \"Topic2\", \"Topic2\", \"Topic2\", \"Topic2\", \"Topic2\", \"Topic2\", \"Topic2\", \"Topic2\", \"Topic2\", \"Topic2\", \"Topic2\", \"Topic2\", \"Topic2\", \"Topic2\", \"Topic2\", \"Topic2\", \"Topic2\", \"Topic2\", \"Topic2\", \"Topic2\", \"Topic3\", \"Topic3\", \"Topic3\", \"Topic3\", \"Topic3\", \"Topic3\", \"Topic3\", \"Topic3\", \"Topic3\", \"Topic3\", \"Topic3\", \"Topic3\", \"Topic3\", \"Topic3\", \"Topic3\", \"Topic3\", \"Topic3\", \"Topic3\", \"Topic3\", \"Topic3\", \"Topic3\", \"Topic3\", \"Topic3\", \"Topic3\", \"Topic3\", \"Topic3\", \"Topic3\", \"Topic3\", \"Topic3\", \"Topic3\", \"Topic3\", \"Topic3\", \"Topic3\", \"Topic3\", \"Topic3\", \"Topic3\", \"Topic3\", \"Topic3\", \"Topic3\", \"Topic3\", \"Topic3\", \"Topic3\", \"Topic3\", \"Topic3\", \"Topic3\", \"Topic3\", \"Topic3\", \"Topic3\", \"Topic3\", \"Topic3\", \"Topic3\", \"Topic3\", \"Topic3\", \"Topic3\", \"Topic3\", \"Topic3\", \"Topic3\", \"Topic4\", \"Topic4\", \"Topic4\", \"Topic4\", \"Topic4\", \"Topic4\", \"Topic4\", \"Topic4\", \"Topic4\", \"Topic4\", \"Topic4\", \"Topic4\", \"Topic4\", \"Topic4\", \"Topic4\", \"Topic4\", \"Topic4\", \"Topic4\", \"Topic4\", \"Topic4\", \"Topic4\", \"Topic4\", \"Topic4\", \"Topic4\", \"Topic4\", \"Topic4\", \"Topic4\", \"Topic4\", \"Topic4\", \"Topic4\", \"Topic4\", \"Topic4\", \"Topic4\", \"Topic4\", \"Topic4\", \"Topic4\", \"Topic4\", \"Topic4\", \"Topic4\", \"Topic4\", \"Topic4\", \"Topic4\", \"Topic4\", \"Topic4\", \"Topic4\", \"Topic4\", \"Topic4\", \"Topic4\", \"Topic4\", \"Topic4\", \"Topic4\", \"Topic4\", \"Topic4\", \"Topic5\", \"Topic5\", \"Topic5\", \"Topic5\", \"Topic5\", \"Topic5\", \"Topic5\", \"Topic5\", \"Topic5\", \"Topic5\", \"Topic5\", \"Topic5\", \"Topic5\", \"Topic5\", \"Topic5\", \"Topic5\", \"Topic5\", \"Topic5\", \"Topic5\", \"Topic5\", \"Topic5\", \"Topic5\", \"Topic5\", \"Topic5\", \"Topic5\", \"Topic5\", \"Topic5\", \"Topic5\", \"Topic5\", \"Topic5\", \"Topic5\", \"Topic5\", \"Topic5\", \"Topic5\", \"Topic5\", \"Topic5\", \"Topic5\", \"Topic5\", \"Topic5\", \"Topic5\", \"Topic5\", \"Topic5\", \"Topic5\", \"Topic5\", \"Topic5\", \"Topic5\", \"Topic5\", \"Topic5\", \"Topic5\", \"Topic5\", \"Topic6\", \"Topic6\", \"Topic6\", \"Topic6\", \"Topic6\", \"Topic6\", \"Topic6\", \"Topic6\", \"Topic6\", \"Topic6\", \"Topic6\", \"Topic6\", \"Topic6\", \"Topic6\", \"Topic6\", \"Topic6\", \"Topic6\", \"Topic6\", \"Topic6\", \"Topic6\", \"Topic6\", \"Topic6\", \"Topic6\", \"Topic6\", \"Topic6\", \"Topic6\", \"Topic6\", \"Topic6\", \"Topic6\", \"Topic6\", \"Topic6\", \"Topic6\", \"Topic6\", \"Topic6\", \"Topic6\", \"Topic7\", \"Topic7\", \"Topic7\", \"Topic7\", \"Topic7\", \"Topic7\", \"Topic7\", \"Topic7\", \"Topic7\", \"Topic7\", \"Topic7\", \"Topic7\", \"Topic7\", \"Topic7\", \"Topic7\", \"Topic7\", \"Topic7\", \"Topic7\", \"Topic7\", \"Topic7\", \"Topic7\", \"Topic7\", \"Topic7\", \"Topic7\", \"Topic7\", \"Topic7\", \"Topic7\", \"Topic7\", \"Topic7\", \"Topic7\", \"Topic7\", \"Topic7\", \"Topic7\", \"Topic7\", \"Topic7\", \"Topic7\", \"Topic7\", \"Topic7\", \"Topic7\", \"Topic7\", \"Topic8\", \"Topic8\", \"Topic8\", \"Topic8\", \"Topic8\", \"Topic8\", \"Topic8\", \"Topic8\", \"Topic8\", \"Topic8\", \"Topic8\", \"Topic8\", \"Topic8\", \"Topic8\", \"Topic8\", \"Topic8\", \"Topic8\", \"Topic8\", \"Topic8\", \"Topic8\", \"Topic8\", \"Topic8\", \"Topic8\", \"Topic8\", \"Topic8\", \"Topic8\", \"Topic8\", \"Topic8\", \"Topic8\", \"Topic8\", \"Topic8\", \"Topic8\", \"Topic8\", \"Topic8\", \"Topic9\", \"Topic9\", \"Topic9\", \"Topic9\", \"Topic9\", \"Topic9\", \"Topic9\", \"Topic9\", \"Topic9\", \"Topic9\", \"Topic9\", \"Topic9\", \"Topic9\", \"Topic9\", \"Topic9\", \"Topic9\", \"Topic9\", \"Topic9\", \"Topic9\", \"Topic9\", \"Topic9\", \"Topic9\", \"Topic9\", \"Topic9\", \"Topic9\", \"Topic9\", \"Topic9\", \"Topic9\", \"Topic9\", \"Topic9\", \"Topic9\", \"Topic9\", \"Topic9\", \"Topic9\", \"Topic9\", \"Topic9\", \"Topic9\", \"Topic10\", \"Topic10\", \"Topic10\", \"Topic10\", \"Topic10\", \"Topic10\", \"Topic10\", \"Topic10\", \"Topic10\", \"Topic10\", \"Topic10\", \"Topic10\", \"Topic10\", \"Topic10\", \"Topic10\", \"Topic10\", \"Topic10\", \"Topic10\", \"Topic10\", \"Topic10\", \"Topic10\", \"Topic10\", \"Topic10\", \"Topic10\", \"Topic10\", \"Topic10\", \"Topic10\", \"Topic10\", \"Topic10\", \"Topic10\", \"Topic10\"], \"Freq\": [4698.0, 4490.0, 4057.0, 4380.0, 1558.0, 3464.0, 1483.0, 729.0, 1543.0, 2089.0, 852.0, 1096.0, 1384.0, 980.0, 956.0, 578.0, 1356.0, 3468.0, 609.0, 1252.0, 1272.0, 1212.0, 1203.0, 1832.0, 1174.0, 1502.0, 1071.0, 1384.0, 1511.0, 3382.0, 4697.826171875, 1542.947021484375, 1383.3343505859375, 1271.8233642578125, 1202.52001953125, 1174.134033203125, 952.3413696289062, 820.7321166992188, 760.9171752929688, 755.3062744140625, 730.1655883789062, 662.8314819335938, 638.97216796875, 606.74462890625, 527.3805541992188, 516.2499389648438, 514.1536254882812, 474.07830810546875, 464.30438232421875, 453.15350341796875, 445.17132568359375, 431.3538513183594, 414.73529052734375, 413.5557861328125, 403.9070739746094, 392.9855041503906, 380.0899658203125, 358.8403015136719, 342.9435729980469, 320.2239074707031, 4020.602783203125, 493.3358154296875, 1228.2314453125, 567.76025390625, 460.0238342285156, 455.6998291015625, 887.4671630859375, 854.4473876953125, 1333.7314453125, 798.4447631835938, 878.1971435546875, 1156.3472900390625, 1226.9759521484375, 1142.2508544921875, 694.9353637695312, 732.0704956054688, 714.6359252929688, 654.2599487304688, 551.7408447265625, 553.8228759765625, 1251.7908935546875, 1211.3468017578125, 967.18603515625, 964.188232421875, 802.0902709960938, 624.6565551757812, 589.452392578125, 604.4608154296875, 521.7237548828125, 455.18756103515625, 439.51361083984375, 429.2604675292969, 415.0462951660156, 379.52178955078125, 372.3836669921875, 364.65216064453125, 360.7534484863281, 348.9452819824219, 344.3182373046875, 331.15673828125, 330.03289794921875, 325.9496765136719, 308.3052978515625, 496.5888366699219, 292.2743225097656, 271.71624755859375, 271.2437438964844, 268.9366149902344, 873.1744384765625, 248.51309204101562, 398.2717590332031, 1335.087158203125, 616.0978393554688, 767.90185546875, 1721.9652099609375, 2659.951416015625, 1017.2903442382812, 668.8623657226562, 904.6072387695312, 1148.5399169921875, 807.9658813476562, 487.3564147949219, 723.4566040039062, 904.3321533203125, 831.2510986328125, 712.8403930664062, 934.8795166015625, 1392.8809814453125, 1306.4375, 777.2698974609375, 635.5028076171875, 566.6013793945312, 679.0326538085938, 576.53662109375, 579.8118286132812, 514.6087646484375, 498.3330078125, 401.56011962890625, 370.2760314941406, 349.4311218261719, 347.0433349609375, 398.72662353515625, 324.749267578125, 309.0597839355469, 299.2912902832031, 295.8722839355469, 263.9832763671875, 224.4443359375, 219.1923828125, 217.48268127441406, 193.62911987304688, 193.51373291015625, 188.0336151123047, 176.1168670654297, 170.83287048339844, 170.5913543701172, 154.65260314941406, 151.2128143310547, 150.42092895507812, 145.11532592773438, 142.86996459960938, 142.21249389648438, 141.25555419921875, 138.9326629638672, 1045.6339111328125, 1394.5777587890625, 281.9377746582031, 764.8653564453125, 229.74588012695312, 866.814697265625, 203.297607421875, 931.6248168945312, 342.8057861328125, 290.5423889160156, 288.927490234375, 689.2460327148438, 305.7157287597656, 1309.572509765625, 443.21588134765625, 414.90594482421875, 405.7615661621094, 582.5621337890625, 671.3961181640625, 336.8972473144531, 621.80419921875, 741.7032470703125, 383.5696716308594, 316.0330810546875, 513.0213623046875, 368.0909423828125, 315.5595703125, 955.8355102539062, 720.6156005859375, 610.652099609375, 513.254638671875, 454.8062744140625, 377.1159973144531, 308.11279296875, 284.0640563964844, 261.696044921875, 251.39735412597656, 247.00906372070312, 244.53933715820312, 222.25955200195312, 221.80081176757812, 218.97352600097656, 217.82546997070312, 210.52020263671875, 207.72891235351562, 206.98397827148438, 272.6333312988281, 202.59268188476562, 195.36309814453125, 975.9820556640625, 182.52513122558594, 178.38438415527344, 164.79832458496094, 161.0421142578125, 158.39398193359375, 157.5323028564453, 155.12876892089844, 462.417236328125, 200.09144592285156, 218.64620971679688, 405.25823974609375, 746.9151611328125, 457.5782470703125, 304.7149963378906, 514.09619140625, 291.44244384765625, 552.5531005859375, 280.6118469238281, 409.218017578125, 660.9115600585938, 453.52569580078125, 815.3556518554688, 519.7379760742188, 351.58966064453125, 338.1054382324219, 305.8648986816406, 361.99212646484375, 276.5758056640625, 275.5240478515625, 276.6439514160156, 487.5354309082031, 444.29443359375, 349.5834045410156, 309.1395568847656, 257.4919128417969, 251.27403259277344, 235.59632873535156, 220.34022521972656, 187.28553771972656, 157.64834594726562, 160.0889434814453, 149.5074462890625, 148.77679443359375, 137.05322265625, 136.24484252929688, 134.0706787109375, 133.2830810546875, 128.8559112548828, 128.78778076171875, 120.11904907226562, 117.62298583984375, 113.46407318115234, 105.92134094238281, 156.63595581054688, 103.31346130371094, 102.22323608398438, 101.03778839111328, 101.01412200927734, 99.31932067871094, 98.95594787597656, 1531.8238525390625, 407.7677917480469, 380.7748107910156, 426.0611877441406, 339.0557556152344, 2343.066162109375, 426.3507385253906, 1605.38916015625, 356.2794494628906, 257.023193359375, 258.2364196777344, 277.221435546875, 265.2212829589844, 199.02272033691406, 189.4981231689453, 268.5469665527344, 329.8208923339844, 189.1227264404297, 229.19082641601562, 186.8422393798828, 729.1032104492188, 608.2857666015625, 476.599365234375, 277.2905578613281, 225.07852172851562, 290.02392578125, 181.35372924804688, 146.22323608398438, 142.66957092285156, 126.83814239501953, 126.46167755126953, 125.60612487792969, 122.80231475830078, 117.38501739501953, 116.99907684326172, 114.32147979736328, 114.14405822753906, 111.4791030883789, 104.38967895507812, 104.30338287353516, 102.11474609375, 99.63858795166016, 99.519775390625, 97.03620910644531, 94.88369750976562, 84.19125366210938, 83.60633087158203, 81.3055191040039, 80.25531768798828, 79.36026763916016, 478.58502197265625, 298.26409912109375, 135.9648895263672, 106.1370849609375, 93.52767181396484, 141.57009887695312, 127.26016235351562, 121.96875, 109.38548278808594, 109.22270202636719, 100.62802124023438, 97.41226959228516, 97.19336700439453, 96.57539367675781, 96.02507781982422, 93.55227661132812, 93.41352081298828, 90.5068588256836, 87.49724578857422, 82.6270751953125, 82.24708557128906, 80.33613586425781, 79.72655487060547, 79.47792053222656, 77.75576782226562, 77.39869689941406, 75.28572845458984, 74.261962890625, 71.4475326538086, 65.35287475585938, 64.81072998046875, 64.48307037353516, 63.829105377197266, 63.471534729003906, 63.45606994628906, 196.46080017089844, 166.647705078125, 141.0377197265625, 96.08536529541016, 213.71212768554688, 199.87655639648438, 104.44721221923828, 125.9534912109375, 93.45841979980469, 100.36528778076172, 255.03587341308594, 228.78419494628906, 218.557373046875, 208.89926147460938, 191.8001251220703, 185.77877807617188, 138.481689453125, 135.99755859375, 132.22293090820312, 127.77078247070312, 118.93255615234375, 118.12450408935547, 115.42161560058594, 113.27662658691406, 111.2803955078125, 104.34416198730469, 103.51165771484375, 91.05310821533203, 88.76387786865234, 87.62007141113281, 87.39208221435547, 86.75117492675781, 86.46862030029297, 84.62946319580078, 83.89695739746094, 83.38982391357422, 83.06988525390625, 78.625732421875, 76.9702377319336, 75.70211029052734, 89.09835052490234, 102.94596099853516, 101.35572814941406, 83.3438949584961, 577.8018798828125, 155.45034790039062, 142.93014526367188, 113.52448272705078, 106.76676940917969, 104.92377471923828, 102.02328491210938, 95.73527526855469, 90.9133529663086, 86.06622314453125, 81.61030578613281, 76.37286376953125, 76.2059555053711, 71.83100891113281, 71.66350555419922, 68.60501861572266, 68.23216247558594, 67.32755279541016, 66.15711975097656, 66.0572280883789, 64.52989959716797, 58.98030471801758, 58.76926040649414, 57.970401763916016, 57.677581787109375, 56.13059997558594, 55.83859634399414, 55.55054473876953, 54.55277633666992, 52.442508697509766, 270.6598205566406, 209.98690795898438, 100.72603607177734, 77.54074096679688, 66.0247802734375, 61.9351806640625, 58.10762023925781, 172.2657928466797, 169.777099609375, 165.94857788085938, 151.57342529296875, 135.94601440429688, 133.041259765625, 102.1512222290039, 99.06258392333984, 92.80594635009766, 81.83143615722656, 81.60030364990234, 68.75450134277344, 68.17725372314453, 67.60472869873047, 67.48725891113281, 64.87272644042969, 64.2909927368164, 59.41699981689453, 57.95280075073242, 57.9390983581543, 57.00014114379883, 53.198246002197266, 52.43431091308594, 52.21926498413086, 51.35334396362305, 48.971351623535156, 46.78458786010742, 45.70073699951172, 45.49885940551758, 44.08517074584961, 130.88705444335938], \"Term\": [\"food\", \"place\", \"great\", \"good\", \"love\", \"time\", \"staff\", \"pizza\", \"ordered\", \"got\", \"cheese\", \"recommend\", \"chicken\", \"room\", \"vegas\", \"car\", \"friendly\", \"service\", \"cream\", \"know\", \"restaurant\", \"said\", \"delicious\", \"best\", \"menu\", \"went\", \"new\", \"amazing\", \"people\", \"like\", \"food\", \"ordered\", \"chicken\", \"restaurant\", \"delicious\", \"menu\", \"fresh\", \"eat\", \"sauce\", \"lunch\", \"meal\", \"dinner\", \"server\", \"salad\", \"rice\", \"soup\", \"fries\", \"beef\", \"fried\", \"tasty\", \"sandwich\", \"dishes\", \"dish\", \"steak\", \"wine\", \"tasted\", \"spicy\", \"shrimp\", \"cooked\", \"served\", \"good\", \"special\", \"try\", \"taste\", \"loved\", \"breakfast\", \"definitely\", \"little\", \"service\", \"order\", \"best\", \"like\", \"place\", \"great\", \"amazing\", \"nice\", \"ve\", \"came\", \"table\", \"bit\", \"know\", \"said\", \"told\", \"minutes\", \"asked\", \"wanted\", \"left\", \"hour\", \"let\", \"manager\", \"waiting\", \"tell\", \"hours\", \"finally\", \"walked\", \"guy\", \"person\", \"later\", \"pick\", \"worst\", \"rude\", \"waited\", \"saw\", \"review\", \"leave\", \"customers\", \"given\", \"reason\", \"took\", \"kept\", \"pm\", \"went\", \"away\", \"bad\", \"got\", \"time\", \"day\", \"long\", \"going\", \"people\", \"want\", \"line\", \"times\", \"right\", \"way\", \"wait\", \"come\", \"service\", \"like\", \"came\", \"order\", \"sure\", \"place\", \"experience\", \"years\", \"highly\", \"job\", \"helpful\", \"shop\", \"hair\", \"professional\", \"week\", \"thank\", \"office\", \"guys\", \"ago\", \"dr\", \"salon\", \"thanks\", \"weeks\", \"nail\", \"helped\", \"nails\", \"pleasant\", \"honest\", \"knowledgeable\", \"gel\", \"oil\", \"giving\", \"moved\", \"skin\", \"pedicure\", \"process\", \"products\", \"recommend\", \"staff\", \"appointment\", \"work\", \"fix\", \"new\", \"months\", \"friendly\", \"gave\", \"year\", \"extremely\", \"amazing\", \"absolutely\", \"great\", \"happy\", \"looking\", \"feel\", \"experience\", \"ve\", \"care\", \"best\", \"service\", \"clean\", \"use\", \"time\", \"definitely\", \"price\", \"vegas\", \"area\", \"coffee\", \"sushi\", \"hotel\", \"parking\", \"strip\", \"roll\", \"music\", \"pool\", \"ramen\", \"available\", \"salmon\", \"space\", \"plenty\", \"portion\", \"rooms\", \"unfortunately\", \"terrible\", \"sit\", \"floor\", \"average\", \"room\", \"donuts\", \"view\", \"authentic\", \"noodle\", \"seats\", \"located\", \"seat\", \"inside\", \"gets\", \"seating\", \"outside\", \"bar\", \"free\", \"stay\", \"lot\", \"fish\", \"pretty\", \"cool\", \"drinks\", \"nice\", \"night\", \"like\", \"little\", \"clean\", \"small\", \"worth\", \"people\", \"bit\", \"location\", \"good\", \"burger\", \"beer\", \"tacos\", \"kids\", \"mexican\", \"taco\", \"salsa\", \"remember\", \"downtown\", \"honestly\", \"school\", \"beers\", \"burgers\", \"rock\", \"window\", \"vegetarian\", \"mall\", \"outdoor\", \"stores\", \"curry\", \"chain\", \"hungry\", \"forever\", \"hit\", \"burrito\", \"possible\", \"play\", \"grab\", \"movie\", \"neighborhood\", \"love\", \"selection\", \"fun\", \"favorite\", \"town\", \"place\", \"awesome\", \"great\", \"meat\", \"stop\", \"spot\", \"usually\", \"enjoy\", \"stuff\", \"lots\", \"big\", \"best\", \"atmosphere\", \"bar\", \"friends\", \"pizza\", \"cream\", \"ice\", \"chocolate\", \"flavors\", \"tea\", \"french\", \"la\", \"boyfriend\", \"cocktail\", \"salty\", \"mac\", \"toppings\", \"pancakes\", \"onion\", \"medium\", \"milk\", \"slice\", \"crust\", \"stuffed\", \"cookies\", \"toast\", \"spinach\", \"fruit\", \"boba\", \"brisket\", \"enjoying\", \"entree\", \"sugar\", \"california\", \"cheese\", \"sweet\", \"dessert\", \"meat\", \"light\", \"waste\", \"bed\", \"discount\", \"pho\", \"salads\", \"paul\", \"hold\", \"visits\", \"broken\", \"happened\", \"anymore\", \"save\", \"paper\", \"hell\", \"positive\", \"heat\", \"refund\", \"sent\", \"tech\", \"insurance\", \"warranty\", \"grocery\", \"calling\", \"stuck\", \"missed\", \"department\", \"carpet\", \"businesses\", \"annoying\", \"listened\", \"phone\", \"taking\", \"received\", \"lost\", \"called\", \"store\", \"number\", \"days\", \"desk\", \"money\", \"dog\", \"completely\", \"recommended\", \"showed\", \"butter\", \"crispy\", \"delivery\", \"dogs\", \"original\", \"mins\", \"standard\", \"lack\", \"club\", \"yesterday\", \"delivered\", \"clear\", \"mom\", \"normally\", \"raw\", \"vet\", \"typical\", \"email\", \"buying\", \"combo\", \"enjoyable\", \"bigger\", \"ribs\", \"fat\", \"donut\", \"bunch\", \"par\", \"totally\", \"gave\", \"meat\", \"car\", \"phoenix\", \"certainly\", \"road\", \"lemon\", \"guacamole\", \"moving\", \"sad\", \"pricing\", \"treatment\", \"truck\", \"airport\", \"reasonably\", \"dealership\", \"cars\", \"answered\", \"technician\", \"learn\", \"property\", \"private\", \"stylist\", \"men\", \"example\", \"natural\", \"vacation\", \"rent\", \"bank\", \"sales\", \"tom\", \"consistently\", \"company\", \"house\", \"poor\", \"scottsdale\", \"product\", \"information\", \"calls\", \"brunch\", \"literally\", \"exactly\", \"pieces\", \"solid\", \"fabulous\", \"indian\", \"bag\", \"funny\", \"additional\", \"parts\", \"chair\", \"flight\", \"buffets\", \"informative\", \"difference\", \"sleep\", \"particularly\", \"christmas\", \"le\", \"dance\", \"dad\", \"pour\", \"contacted\", \"naan\", \"et\", \"ranch\", \"messed\", \"restroom\", \"lv\", \"buffet\"], \"Total\": [4698.0, 4490.0, 4057.0, 4380.0, 1558.0, 3464.0, 1483.0, 729.0, 1543.0, 2089.0, 852.0, 1096.0, 1384.0, 980.0, 956.0, 578.0, 1356.0, 3468.0, 609.0, 1252.0, 1272.0, 1212.0, 1203.0, 1832.0, 1174.0, 1502.0, 1071.0, 1384.0, 1511.0, 3382.0, 4698.681640625, 1543.803466796875, 1384.1907958984375, 1272.6798095703125, 1203.37646484375, 1174.990478515625, 953.1978759765625, 821.5885620117188, 761.7736206054688, 756.1627197265625, 731.0220336914062, 663.6879272460938, 639.82861328125, 607.60107421875, 528.2369995117188, 517.1063842773438, 515.0100708007812, 474.9346618652344, 465.1607360839844, 454.0098571777344, 446.0277404785156, 432.2102966308594, 415.5916748046875, 414.41217041015625, 404.7635803222656, 393.8419494628906, 380.9463195800781, 359.6966552734375, 343.7999267578125, 321.080322265625, 4380.509765625, 511.6633605957031, 1457.992919921875, 616.025146484375, 487.3080749511719, 482.6124267578125, 1335.1300048828125, 1439.07763671875, 3468.9775390625, 1434.7032470703125, 1832.10986328125, 3382.972412109375, 4490.66943359375, 4057.881591796875, 1384.9442138671875, 1684.576416015625, 1850.7506103515625, 1432.2855224609375, 745.1363525390625, 831.1580200195312, 1252.6456298828125, 1212.200439453125, 968.0396728515625, 965.0418701171875, 802.9439086914062, 625.51025390625, 590.3060302734375, 605.3536987304688, 522.5774536132812, 456.0411376953125, 440.3671569824219, 430.1140441894531, 415.8999328613281, 380.3753662109375, 373.23724365234375, 365.5057373046875, 361.6070251464844, 349.7988586425781, 345.171875, 332.0103454589844, 330.8863830566406, 326.80322265625, 309.1589050292969, 497.9859924316406, 293.1279296875, 272.56982421875, 272.0973815917969, 269.7901916503906, 876.0765991210938, 249.36672973632812, 403.7344665527344, 1502.5465087890625, 654.1893310546875, 830.2660522460938, 2089.94873046875, 3464.200927734375, 1180.245361328125, 734.6065673828125, 1102.078857421875, 1511.288330078125, 993.8527221679688, 528.9124755859375, 875.4458618164062, 1179.524169921875, 1072.489501953125, 919.38330078125, 1427.0133056640625, 3468.9775390625, 3382.972412109375, 1432.2855224609375, 1434.7032470703125, 950.4246215820312, 4490.66943359375, 1262.5035400390625, 580.6725463867188, 515.469482421875, 499.193603515625, 402.4208068847656, 371.1366271972656, 350.2916564941406, 347.90386962890625, 399.752197265625, 325.60986328125, 309.92041015625, 300.15191650390625, 296.7329406738281, 264.84381103515625, 225.30490112304688, 220.052978515625, 218.34332275390625, 194.48968505859375, 194.37445068359375, 188.89418029785156, 176.97755432128906, 171.69354248046875, 171.45191955566406, 155.51319885253906, 152.07366943359375, 151.28163146972656, 145.97593688964844, 143.7305908203125, 143.07305908203125, 142.11618041992188, 139.79336547851562, 1096.245849609375, 1483.1595458984375, 298.1002197265625, 882.0145263671875, 240.9546356201172, 1071.2796630859375, 213.73536682128906, 1356.4013671875, 444.9292297363281, 356.70623779296875, 365.1346740722656, 1384.9442138671875, 403.3116455078125, 4057.881591796875, 729.5103759765625, 661.513671875, 657.719482421875, 1262.5035400390625, 1850.7506103515625, 499.78936767578125, 1832.10986328125, 3468.9775390625, 735.9228515625, 458.445068359375, 3464.200927734375, 1335.1300048828125, 820.49462890625, 956.6926879882812, 721.4727783203125, 611.5117797851562, 514.1117553710938, 455.663330078125, 377.97308349609375, 308.9698791503906, 284.9211730957031, 262.5531311035156, 252.2544403076172, 247.8661651611328, 245.39654541015625, 223.11672973632812, 222.65794372558594, 219.83065795898438, 218.6826171875, 211.3772430419922, 208.58616638183594, 207.84121704101562, 273.7691955566406, 203.4497833251953, 196.22023010253906, 980.3428955078125, 183.38241577148438, 179.24143981933594, 165.65550231933594, 161.8992919921875, 159.2511444091797, 158.38937377929688, 155.9859161376953, 473.068115234375, 202.89430236816406, 223.2297821044922, 433.2459411621094, 1046.295166015625, 623.9527587890625, 366.0267639160156, 781.8975219726562, 368.366455078125, 1037.59375, 356.16571044921875, 703.7656860351562, 1684.576416015625, 976.6287231445312, 3382.972412109375, 1439.07763671875, 735.9228515625, 740.6561279296875, 576.7128295898438, 1511.288330078125, 831.1580200195312, 895.0191650390625, 4380.509765625, 488.395751953125, 445.3790588378906, 350.4436950683594, 309.9998779296875, 258.3522033691406, 252.1343536376953, 236.4567108154297, 221.20066833496094, 188.14605712890625, 158.50880432128906, 160.9707489013672, 150.36776733398438, 149.6370849609375, 137.9136962890625, 137.10537719726562, 134.93109130859375, 134.14341735839844, 129.71632385253906, 129.6481475830078, 120.97940826416016, 118.48341369628906, 114.32443237304688, 106.78184509277344, 157.9278564453125, 104.17374420166016, 103.08523559570312, 101.89810180664062, 101.87455749511719, 100.1796646118164, 99.81632995605469, 1558.1463623046875, 428.4617614746094, 431.42852783203125, 507.0090637207031, 429.56500244140625, 4490.66943359375, 614.9215698242188, 4057.881591796875, 546.4348754882812, 373.81396484375, 394.3429260253906, 442.4219665527344, 435.4131774902344, 278.31640625, 263.1637268066406, 651.8704223632812, 1832.10986328125, 403.2976379394531, 1046.295166015625, 527.4140625, 729.964599609375, 609.1471557617188, 477.4607238769531, 278.1518859863281, 225.9398956298828, 291.39453125, 182.21511840820312, 147.08473205566406, 143.53109741210938, 127.69964599609375, 127.3230972290039, 126.46747589111328, 123.66377258300781, 118.2463607788086, 117.86048126220703, 115.18294525146484, 115.00536346435547, 112.34053039550781, 105.2509765625, 105.16482543945312, 102.9761734008789, 100.49992370605469, 100.38117980957031, 97.8975830078125, 95.7450942993164, 85.05268096923828, 84.46794128417969, 82.16694641113281, 81.11665344238281, 80.22190856933594, 852.9389038085938, 603.4351196289062, 381.639404296875, 546.4348754882812, 243.0873260498047, 142.4286651611328, 128.1187286376953, 122.8272933959961, 110.24402618408203, 110.0814208984375, 101.48705291748047, 98.27076721191406, 98.05196380615234, 97.43392944335938, 96.88362884521484, 94.41094207763672, 94.27204132080078, 91.36553955078125, 88.35594940185547, 83.48565673828125, 83.1057357788086, 81.19466400146484, 80.58506774902344, 80.33644104003906, 78.61418914794922, 78.25719451904297, 76.14427185058594, 75.12045288085938, 72.30640411376953, 66.21150207519531, 65.6693115234375, 65.34160614013672, 64.68783569335938, 64.33007049560547, 64.31478881835938, 294.0782470703125, 239.12191772460938, 241.03900146484375, 134.54161071777344, 627.6126098632812, 709.6920166015625, 185.84027099609375, 369.57159423828125, 163.673828125, 474.7811584472656, 255.897216796875, 229.64559936523438, 219.41879272460938, 209.76072692871094, 192.66156005859375, 186.6401824951172, 139.34303283691406, 136.85888671875, 133.08432006835938, 128.6321258544922, 119.7939682006836, 118.98599243164062, 116.28296661376953, 114.13811492919922, 112.14176940917969, 105.20556640625, 104.37300109863281, 91.91461181640625, 89.62538146972656, 88.48140716552734, 88.25346374511719, 87.61267852783203, 87.33008575439453, 85.49087524414062, 84.75849914550781, 84.25126647949219, 83.93119049072266, 79.48716735839844, 77.83161163330078, 76.56362915039062, 96.13690948486328, 186.50648498535156, 444.9292297363281, 546.4348754882812, 578.6649780273438, 156.3133544921875, 143.7932586669922, 114.3875732421875, 107.62991333007812, 105.78690338134766, 102.88636779785156, 96.59825897216797, 91.77642822265625, 86.92922973632812, 82.47319793701172, 77.23577117919922, 77.06893920898438, 72.69389343261719, 72.52642059326172, 69.46797180175781, 69.09508514404297, 68.19054412841797, 67.02010345458984, 66.92040252685547, 65.39287567138672, 59.84330749511719, 59.63227081298828, 58.833370208740234, 58.54063415527344, 56.993438720703125, 56.701568603515625, 56.41337585449219, 55.41581726074219, 53.30546188354492, 335.34539794921875, 571.5790405273438, 176.83218383789062, 128.75698852539062, 103.17605590820312, 89.57962799072266, 80.24820709228516, 173.12258911132812, 170.6339874267578, 166.80538940429688, 152.43028259277344, 136.8029327392578, 133.8982391357422, 103.0079345703125, 99.91947174072266, 93.66278076171875, 82.68829345703125, 82.45719909667969, 69.611328125, 69.0340347290039, 68.46154022216797, 68.3442153930664, 65.72988891601562, 65.14791107177734, 60.27397918701172, 58.80965805053711, 58.795753479003906, 57.856849670410156, 54.05508041381836, 53.290985107421875, 53.07643508911133, 52.21007537841797, 49.827938079833984, 47.64137268066406, 46.55803680419922, 46.355857849121094, 44.9420280456543, 218.40199279785156], \"loglift\": [30.0, 29.0, 28.0, 27.0, 26.0, 25.0, 24.0, 23.0, 22.0, 21.0, 20.0, 19.0, 18.0, 17.0, 16.0, 15.0, 14.0, 13.0, 12.0, 11.0, 10.0, 9.0, 8.0, 7.0, 6.0, 5.0, 4.0, 3.0, 2.0, 1.0, 1.4386999607086182, 1.4383000135421753, 1.4381999969482422, 1.4381999969482422, 1.438099980354309, 1.438099980354309, 1.4378999471664429, 1.4378000497817993, 1.4377000331878662, 1.4377000331878662, 1.4377000331878662, 1.437600016593933, 1.4375, 1.437399983406067, 1.4371999502182007, 1.4371999502182007, 1.4371999502182007, 1.437000036239624, 1.437000036239624, 1.437000036239624, 1.436900019645691, 1.436900019645691, 1.4368000030517578, 1.4368000030517578, 1.4366999864578247, 1.4366999864578247, 1.4365999698638916, 1.4364999532699585, 1.436400055885315, 1.4362000226974487, 1.3530999422073364, 1.402400016784668, 1.2674000263214111, 1.357300043106079, 1.3811999559402466, 1.381500005722046, 1.030400037765503, 0.9175000190734863, 0.4830000102519989, 0.8528000116348267, 0.703499972820282, 0.3653999865055084, 0.14139999449253082, 0.1712000072002411, 0.7493000030517578, 0.6054999828338623, 0.48730000853538513, 0.6553000211715698, 1.1383999586105347, 1.0328999757766724, 1.4688999652862549, 1.4687999486923218, 1.4687000513076782, 1.4687000513076782, 1.468500018119812, 1.4681999683380127, 1.4680999517440796, 1.4680999517440796, 1.467900037765503, 1.4677000045776367, 1.4675999879837036, 1.4674999713897705, 1.4674999713897705, 1.4673000574111938, 1.4672000408172607, 1.4672000408172607, 1.4672000408172607, 1.4671000242233276, 1.4671000242233276, 1.4670000076293945, 1.4670000076293945, 1.4668999910354614, 1.4667999744415283, 1.4666999578475952, 1.466599941253662, 1.4664000272750854, 1.4664000272750854, 1.4664000272750854, 1.4661999940872192, 1.4660999774932861, 1.455899953842163, 1.3514000177383423, 1.409500002861023, 1.3914999961853027, 1.2759000062942505, 1.205399990081787, 1.3209999799728394, 1.3758000135421753, 1.2720999717712402, 1.195099949836731, 1.2625000476837158, 1.3876999616622925, 1.2788000106811523, 1.2038999795913696, 1.2146999835968018, 1.2151000499725342, 1.0465999841690063, 0.5570999979972839, 0.5181000232696533, 0.858299970626831, 0.6552000045776367, 0.9523000121116638, -0.4196000099182129, 0.685699999332428, 2.0190999507904053, 2.018899917602539, 2.018899917602539, 2.0185000896453857, 2.0183000564575195, 2.0181000232696533, 2.0181000232696533, 2.0179998874664307, 2.017899990081787, 2.0178000926971436, 2.017699956893921, 2.017699956893921, 2.0172998905181885, 2.0167999267578125, 2.016700029373169, 2.0165998935699463, 2.016200065612793, 2.016200065612793, 2.0160000324249268, 2.015700101852417, 2.0155999660491943, 2.0155999660491943, 2.015000104904175, 2.014899969100952, 2.014899969100952, 2.014699935913086, 2.0146000385284424, 2.0146000385284424, 2.0144999027252197, 2.014400005340576, 1.9732999801635742, 1.9589999914169312, 1.9648000001907349, 1.878100037574768, 1.9730000495910645, 1.8087999820709229, 1.9704999923706055, 1.6448999643325806, 1.7597999572753906, 1.8154000043869019, 1.7864999771118164, 1.3228000402450562, 1.743499994277954, 0.8895999789237976, 1.5223000049591064, 1.5541000366210938, 1.537600040435791, 1.2472000122070312, 1.006600022315979, 1.6261999607086182, 0.9399999976158142, 0.4778999984264374, 1.36899995803833, 1.6485999822616577, 0.11069999635219574, 0.7321000099182129, 1.065000057220459, 2.050100088119507, 2.049799919128418, 2.0495998859405518, 2.0494000911712646, 2.049099922180176, 2.048799991607666, 2.04830002784729, 2.0480000972747803, 2.047800064086914, 2.047600030899048, 2.047600030899048, 2.047499895095825, 2.0471999645233154, 2.0471999645233154, 2.047100067138672, 2.047100067138672, 2.046999931335449, 2.0469000339508057, 2.0469000339508057, 2.0469000339508057, 2.046799898147583, 2.0467000007629395, 2.046600103378296, 2.046299934387207, 2.0462000370025635, 2.045799970626831, 2.0457000732421875, 2.045599937438965, 2.045599937438965, 2.0455000400543213, 2.0283000469207764, 2.037100076675415, 2.0302999019622803, 1.9842000007629395, 1.7139999866485596, 1.7409000396728516, 1.8676999807357788, 1.631700038909912, 1.8167999982833862, 1.4208999872207642, 1.812600016593933, 1.5088000297546387, 1.115399956703186, 1.284000039100647, 0.6280999779701233, 1.0326000452041626, 1.312399983406067, 1.2668999433517456, 1.4168000221252441, 0.6219000220298767, 0.9506999850273132, 0.8729000091552734, -0.7111999988555908, 2.543800115585327, 2.5432000160217285, 2.5432000160217285, 2.542799949645996, 2.54229998588562, 2.5422000885009766, 2.5420000553131104, 2.5416998863220215, 2.5409998893737793, 2.5401999950408936, 2.54010009765625, 2.539900064468384, 2.539799928665161, 2.539400100708008, 2.539299964904785, 2.5392000675201416, 2.5392000675201416, 2.5390000343322754, 2.5390000343322754, 2.5385000705718994, 2.538300037384033, 2.538100004196167, 2.5374999046325684, 2.537400007247925, 2.5373001098632812, 2.5371999740600586, 2.537100076675415, 2.537100076675415, 2.5369999408721924, 2.5369999408721924, 2.528599977493286, 2.4960999488830566, 2.4207000732421875, 2.3717000484466553, 2.309000015258789, 1.8950999975204468, 2.1793999671936035, 1.618299961090088, 2.1178998947143555, 2.1710000038146973, 2.122299909591675, 2.078200101852417, 2.0499000549316406, 2.2102999687194824, 2.2172000408172607, 1.6588000059127808, 0.8309000134468079, 1.7883000373840332, 1.0271999835968018, 1.5078999996185303, 3.031399965286255, 3.031100034713745, 3.0308001041412354, 3.0295000076293945, 3.028700113296509, 3.0278000831604004, 3.0278000831604004, 3.026700019836426, 3.0264999866485596, 3.0257999897003174, 3.0257999897003174, 3.025700092315674, 3.025599956512451, 3.0251998901367188, 3.0251998901367188, 3.0250000953674316, 3.0250000953674316, 3.024899959564209, 3.0243000984191895, 3.0243000984191895, 3.024199962615967, 3.023900032043457, 3.023900032043457, 3.023699998855591, 3.0234999656677246, 3.02239990234375, 3.0223000049591064, 3.0220000743865967, 3.021899938583374, 3.0218000411987305, 2.454699993133545, 2.327899932861328, 2.000499963760376, 1.3939000368118286, 2.077399969100952, 3.1252999305725098, 3.1245999336242676, 3.124300003051758, 3.123500108718872, 3.123500108718872, 3.12280011177063, 3.122499942779541, 3.122499942779541, 3.122499942779541, 3.1224000453948975, 3.1222000122070312, 3.1222000122070312, 3.1219000816345215, 3.121500015258789, 3.121000051498413, 3.1208999156951904, 3.120699882507324, 3.1205999851226807, 3.1205999851226807, 3.120300054550171, 3.120300054550171, 3.119999885559082, 3.119800090789795, 3.1194000244140625, 3.118299961090088, 3.1180999279022217, 3.1180999279022217, 3.1178998947143555, 3.1178998947143555, 3.1178998947143555, 2.7279000282287598, 2.77020001411438, 2.595400094985962, 2.7946999073028564, 2.053999900817871, 1.8641999959945679, 2.5550999641418457, 2.0548999309539795, 2.5708999633789062, 1.577299952507019, 3.3078999519348145, 3.307499885559082, 3.307300090789795, 3.3071000576019287, 3.30679988861084, 3.3066000938415527, 3.305000066757202, 3.3048999309539795, 3.3046998977661133, 3.304500102996826, 3.303999900817871, 3.303999900817871, 3.303800106048584, 3.3036999702453613, 3.303499937057495, 3.302999973297119, 3.302999973297119, 3.301800012588501, 3.3015999794006348, 3.301500082015991, 3.3013999462127686, 3.3013999462127686, 3.301300048828125, 3.301100015640259, 3.3010001182556152, 3.3010001182556152, 3.3008999824523926, 3.300299882888794, 3.300100088119507, 3.2999000549316406, 3.2351999282836914, 2.7170000076293945, 1.8320000171661377, 1.430799961090088, 3.3157999515533447, 3.3117001056671143, 3.311300039291382, 3.3097000122070312, 3.3092000484466553, 3.3090999126434326, 3.3089001178741455, 3.308300018310547, 3.307800054550171, 3.307300090789795, 3.30679988861084, 3.305999994277954, 3.305999994277954, 3.305299997329712, 3.305299997329712, 3.304800033569336, 3.3046998977661133, 3.304500102996826, 3.30430006980896, 3.30430006980896, 3.303999900817871, 3.302799940109253, 3.3027000427246094, 3.302500009536743, 3.3024001121520996, 3.302000045776367, 3.3018999099731445, 3.3018999099731445, 3.3015999794006348, 3.3010001182556152, 3.1029999256134033, 2.3159000873565674, 2.754499912261963, 2.8101999759674072, 2.8708999156951904, 2.948199987411499, 2.9944000244140625, 3.549799919128418, 3.549799919128418, 3.5497000217437744, 3.5492000579833984, 3.5485000610351562, 3.5483999252319336, 3.5464999675750732, 3.5462000370025635, 3.545599937438965, 3.5443999767303467, 3.5443999767303467, 3.5423998832702637, 3.54229998588562, 3.5422000885009766, 3.5422000885009766, 3.5416998863220215, 3.541599988937378, 3.5404999256134033, 3.54010009765625, 3.54010009765625, 3.539900064468384, 3.538800001144409, 3.538599967956543, 3.5385000705718994, 3.538300037384033, 3.5374999046325684, 3.5367000102996826, 3.5362000465393066, 3.536099910736084, 3.535599946975708, 3.042799949645996], \"logprob\": [30.0, 29.0, 28.0, 27.0, 26.0, 25.0, 24.0, 23.0, 22.0, 21.0, 20.0, 19.0, 18.0, 17.0, 16.0, 15.0, 14.0, 13.0, 12.0, 11.0, 10.0, 9.0, 8.0, 7.0, 6.0, 5.0, 4.0, 3.0, 2.0, 1.0, -3.1888999938964844, -4.302299976348877, -4.411499977111816, -4.49560022354126, -4.551599979400635, -4.575500011444092, -4.784800052642822, -4.933599948883057, -5.009200096130371, -5.016600131988525, -5.05049991607666, -5.147200107574463, -5.183899879455566, -5.235599994659424, -5.375800132751465, -5.397200107574463, -5.401199817657471, -5.482399940490723, -5.503200054168701, -5.527500152587891, -5.545300006866455, -5.5767998695373535, -5.616099834442139, -5.61899995803833, -5.642600059509277, -5.670000076293945, -5.7032999992370605, -5.760900020599365, -5.80620002746582, -5.87470006942749, -3.344599962234497, -5.442599773406982, -4.530399799346924, -5.30210018157959, -5.512499809265137, -5.521900177001953, -4.855400085449219, -4.8933000564575195, -4.447999954223633, -4.961100101470947, -4.865900039672852, -4.590700149536133, -4.531400203704834, -4.603000164031982, -5.099899768829346, -5.047900199890137, -5.072000026702881, -5.160299777984619, -5.330699920654297, -5.326900005340576, -4.4807000160217285, -4.513599872589111, -4.738699913024902, -4.741799831390381, -4.92579984664917, -5.175899982452393, -5.23390007019043, -5.208700180053711, -5.355899810791016, -5.492400169372559, -5.527400016784668, -5.551000118255615, -5.584700107574463, -5.674200057983398, -5.6930999755859375, -5.714099884033203, -5.724899768829346, -5.758200168609619, -5.771500110626221, -5.810500144958496, -5.813899993896484, -5.826300144195557, -5.881999969482422, -5.405300140380859, -5.935400009155273, -6.008299827575684, -6.0100998878479, -6.018599987030029, -4.84089994430542, -6.097599983215332, -5.625899791717529, -4.416299819946289, -5.189700126647949, -4.969399929046631, -4.161799907684326, -3.7269999980926514, -4.688199996948242, -5.107500076293945, -4.805600166320801, -4.566800117492676, -4.918499946594238, -5.424099922180176, -5.0289998054504395, -4.8059000968933105, -4.890100002288818, -5.043799877166748, -4.77269983291626, -4.373899936676025, -4.438000202178955, -4.957300186157227, -5.158699989318848, -5.273399829864502, -5.092400074005127, -5.25600004196167, -4.6992998123168945, -4.818600177764893, -4.8506999015808105, -5.066699981689453, -5.147799968719482, -5.205699920654297, -5.212600231170654, -5.073699951171875, -5.2789998054504395, -5.328499794006348, -5.360599994659424, -5.372099876403809, -5.486100196838379, -5.648399829864502, -5.672100067138672, -5.679900169372559, -5.79610013961792, -5.7967000007629395, -5.825399875640869, -5.890900135040283, -5.921299934387207, -5.922699928283691, -6.0208001136779785, -6.043300151824951, -6.048600196838379, -6.084499835968018, -6.100100040435791, -6.104700088500977, -6.111400127410889, -6.127999782562256, -4.109600067138672, -3.821700096130371, -5.420300006866455, -4.422299861907959, -5.625, -4.2972002029418945, -5.747300148010254, -4.225100040435791, -5.224800109863281, -5.3902997970581055, -5.3958001136779785, -4.526400089263916, -5.339399814605713, -3.8845999240875244, -4.9679999351501465, -5.033999919891357, -5.05620002746582, -4.6946001052856445, -4.552700042724609, -5.242199897766113, -4.62939977645874, -4.453100204467773, -5.112500190734863, -5.30620002746582, -4.821700096130371, -5.15369987487793, -5.307700157165527, -4.169000148773193, -4.451499938964844, -4.617000102996826, -4.790800094604492, -4.9116997718811035, -5.098999977111816, -5.30109977722168, -5.382400035858154, -5.464399814605713, -5.504499912261963, -5.52209997177124, -5.532199859619141, -5.627699851989746, -5.629799842834473, -5.642600059509277, -5.647900104522705, -5.682000160217285, -5.695300102233887, -5.69890022277832, -5.423399925231934, -5.720399856567383, -5.756700038909912, -4.148099899291992, -5.824699878692627, -5.847599983215332, -5.9268999099731445, -5.949900150299072, -5.9664998054504395, -5.97189998626709, -5.987299919128418, -4.895100116729736, -5.732800006866455, -5.644100189208984, -5.0269999504089355, -4.415599822998047, -4.905600070953369, -5.31220006942749, -4.7891998291015625, -5.3566999435424805, -4.7170000076293945, -5.394599914550781, -5.017300128936768, -4.538000106811523, -4.9145002365112305, -4.327899932861328, -4.778200149536133, -5.169099807739258, -5.208199977874756, -5.3084001541137695, -5.139999866485596, -5.40910005569458, -5.412899971008301, -5.40880012512207, -4.347599983215332, -4.440499782562256, -4.680300235748291, -4.803199768066406, -4.986000061035156, -5.01039981842041, -5.074900150299072, -5.1417999267578125, -5.3043999671936035, -5.476600170135498, -5.461299896240234, -5.529600143432617, -5.5345001220703125, -5.616600036621094, -5.622499942779541, -5.638599872589111, -5.644499778747559, -5.678299903869629, -5.678800106048584, -5.748499870300293, -5.769499778747559, -5.805500030517578, -5.874300003051758, -5.483099937438965, -5.899199962615967, -5.909800052642822, -5.921500205993652, -5.9217000007629395, -5.938700199127197, -5.942299842834473, -3.2028000354766846, -4.526299953460693, -4.594799995422363, -4.482399940490723, -4.7108001708984375, -2.7778000831604004, -4.4816999435424805, -3.155900001525879, -4.661300182342529, -4.987800121307373, -4.983099937438965, -4.912199974060059, -4.956399917602539, -5.243599891662598, -5.292600154876709, -4.943999767303467, -4.738399982452393, -5.294600009918213, -5.102399826049805, -5.306700229644775, -3.458199977874756, -3.639400005340576, -3.8833999633789062, -4.425000190734863, -4.633600234985352, -4.380099773406982, -4.849599838256836, -5.064899921417236, -5.0894999504089355, -5.207099914550781, -5.210100173950195, -5.216899871826172, -5.239500045776367, -5.284599781036377, -5.287899971008301, -5.310999870300293, -5.312600135803223, -5.33620023727417, -5.401899814605713, -5.402699947357178, -5.423900127410889, -5.448500156402588, -5.449699878692627, -5.474999904632568, -5.497399806976318, -5.617000102996826, -5.623899936676025, -5.651800155639648, -5.66480016708374, -5.676000118255615, -3.879199981689453, -4.352099895477295, -5.137700080871582, -5.385300159454346, -5.5117998123168945, -4.998499870300293, -5.105100154876709, -5.147500038146973, -5.256400108337402, -5.257900238037109, -5.339900016784668, -5.372300148010254, -5.374599933624268, -5.38100004196167, -5.38670015335083, -5.412799835205078, -5.414299964904785, -5.445899963378906, -5.479700088500977, -5.5370001792907715, -5.541600227355957, -5.565100193023682, -5.572700023651123, -5.575799942016602, -5.597700119018555, -5.60230016708374, -5.630000114440918, -5.643700122833252, -5.682300090789795, -5.771500110626221, -5.779799938201904, -5.784900188446045, -5.795100212097168, -5.8007001876831055, -5.800899982452393, -4.67080020904541, -4.835400104522705, -5.002299785614014, -5.386099815368652, -4.586699962615967, -4.653600215911865, -5.302599906921387, -5.1153998374938965, -5.41379976272583, -5.34250020980835, -4.230000019073486, -4.338600158691406, -4.384300231933594, -4.429500102996826, -4.514900207519531, -4.546800136566162, -4.84060001373291, -4.858699798583984, -4.886899948120117, -4.92110013961792, -4.992800235748291, -4.999599933624268, -5.022799968719482, -5.041500091552734, -5.059299945831299, -5.123700141906738, -5.131700038909912, -5.259900093078613, -5.285399913787842, -5.298399925231934, -5.301000118255615, -5.308300018310547, -5.311600208282471, -5.333099842071533, -5.341800212860107, -5.347799777984619, -5.3516998291015625, -5.406700134277344, -5.4278998374938965, -5.4446001052856445, -5.281599998474121, -5.137199878692627, -5.152699947357178, -5.348400115966797, -3.406100034713745, -4.718999862670898, -4.802999973297119, -5.033299922943115, -5.094699859619141, -5.112100124359131, -5.140100002288818, -5.203700065612793, -5.25540018081665, -5.310200214385986, -5.363399982452393, -5.429699897766113, -5.4319000244140625, -5.491000175476074, -5.493299961090088, -5.5370001792907715, -5.542399883270264, -5.555799961090088, -5.573299884796143, -5.57480001449585, -5.598199844360352, -5.6880998611450195, -5.691699981689453, -5.705399990081787, -5.7104997634887695, -5.737599849700928, -5.7428998947143555, -5.748000144958496, -5.766200065612793, -5.805600166320801, -4.1645002365112305, -4.418300151824951, -5.152900218963623, -5.4145002365112305, -5.575300216674805, -5.639200210571289, -5.703000068664551, -4.378799915313721, -4.3933000564575195, -4.416100025177002, -4.506700038909912, -4.615499973297119, -4.6371002197265625, -4.901299953460693, -4.932000160217285, -4.997300148010254, -5.1230998039245605, -5.125999927520752, -5.297299861907959, -5.305699825286865, -5.3140997886657715, -5.315899848937988, -5.355400085449219, -5.3643999099731445, -5.44320011138916, -5.468200206756592, -5.468400001525879, -5.4847002029418945, -5.553800106048584, -5.56820011138916, -5.572299957275391, -5.589099884033203, -5.636600017547607, -5.682199954986572, -5.705699920654297, -5.710100173950195, -5.741700172424316, -4.653500080108643]}, \"token.table\": {\"Topic\": [1, 3, 10, 3, 9, 1, 3, 7, 9, 7, 2, 3, 4, 2, 1, 5, 4, 4, 4, 2, 4, 1, 3, 5, 1, 2, 4, 10, 9, 1, 4, 5, 7, 1, 5, 5, 1, 3, 4, 5, 1, 2, 4, 5, 8, 1, 4, 6, 6, 1, 5, 6, 7, 10, 1, 10, 10, 8, 5, 5, 5, 7, 8, 8, 6, 2, 7, 7, 7, 9, 1, 2, 9, 2, 3, 7, 9, 9, 5, 10, 1, 6, 1, 6, 10, 3, 4, 8, 8, 6, 4, 8, 1, 2, 3, 4, 5, 7, 9, 8, 9, 10, 1, 6, 4, 5, 6, 8, 6, 5, 2, 10, 10, 2, 3, 4, 2, 3, 7, 9, 1, 3, 4, 1, 8, 8, 7, 2, 7, 1, 6, 10, 1, 7, 1, 1, 8, 8, 8, 4, 5, 3, 1, 2, 4, 1, 8, 1, 4, 5, 8, 6, 6, 10, 10, 9, 1, 2, 3, 4, 2, 3, 10, 8, 1, 5, 1, 2, 3, 4, 2, 4, 6, 3, 7, 6, 10, 4, 1, 5, 3, 4, 6, 1, 1, 1, 3, 1, 2, 3, 5, 1, 6, 4, 5, 10, 3, 8, 3, 4, 8, 2, 3, 2, 3, 4, 5, 1, 2, 3, 4, 5, 1, 2, 5, 1, 3, 5, 7, 9, 2, 3, 3, 7, 1, 2, 3, 7, 7, 3, 3, 3, 1, 5, 7, 3, 5, 4, 2, 2, 1, 5, 9, 5, 6, 10, 2, 9, 10, 4, 6, 7, 3, 2, 5, 2, 3, 6, 8, 2, 10, 9, 2, 2, 9, 2, 4, 6, 1, 2, 3, 4, 5, 2, 4, 7, 10, 1, 4, 5, 4, 1, 2, 3, 4, 5, 1, 2, 4, 1, 2, 3, 4, 3, 7, 1, 2, 3, 4, 5, 4, 5, 1, 3, 5, 1, 5, 1, 10, 6, 5, 2, 1, 5, 6, 8, 6, 9, 1, 10, 5, 6, 8, 2, 7, 8, 2, 7, 3, 9, 3, 5, 9, 4, 10, 3, 3, 9, 5, 1, 2, 3, 1, 3, 4, 1, 2, 4, 4, 8, 2, 4, 7, 3, 3, 6, 1, 2, 1, 8, 5, 1, 4, 6, 7, 8, 10, 4, 10, 10, 7, 3, 2, 4, 2, 7, 9, 2, 7, 2, 10, 6, 1, 2, 3, 4, 5, 5, 3, 4, 2, 4, 4, 1, 9, 4, 7, 5, 10, 1, 4, 1, 3, 4, 9, 9, 3, 3, 9, 3, 3, 9, 4, 10, 8, 2, 9, 3, 7, 1, 3, 8, 7, 5, 9, 1, 10, 2, 3, 8, 1, 1, 2, 3, 4, 9, 5, 4, 4, 7, 4, 2, 9, 2, 1, 7, 9, 4, 3, 5, 6, 1, 1, 7, 2, 5, 1, 9, 4, 4, 5, 4, 1, 5, 7, 1, 1, 1, 2, 3, 3, 8, 1, 4, 3, 10, 6, 1, 4, 5, 10, 1, 4, 1, 3, 1, 6, 1, 4, 5, 1, 2, 3, 4, 8, 2, 4, 1, 2, 4, 5, 2, 3, 7, 5, 4, 7, 1, 2, 5, 7, 6, 9, 6, 1, 2, 3, 4, 4, 1, 6, 1, 2, 5, 5, 7, 8, 1, 6, 1, 1, 4, 6, 7, 9, 2, 4, 3, 3, 1, 2, 3, 4, 1, 2, 3, 4, 5, 6, 2, 9, 2, 3, 6, 6, 7, 8, 1, 3, 5, 9, 9, 1, 2, 4, 8, 4, 2, 3, 4, 7, 9, 1, 3, 4, 5, 9, 1, 2, 3, 4, 5, 4, 5, 8, 4, 7, 1, 2, 4, 2, 2, 2, 1, 2, 3, 4, 5, 2, 7, 7, 1, 2, 4, 3, 3, 1, 2, 3, 5, 1, 2, 3, 2, 1, 4, 2, 3, 4, 9, 3, 8], \"Freq\": [0.2405087947845459, 0.7587184906005859, 0.9916760325431824, 0.9975299835205078, 0.984000027179718, 0.5018252730369568, 0.4974929690361023, 0.9793242812156677, 0.9932634830474854, 0.9956473112106323, 0.0503186471760273, 0.9459905624389648, 0.9993447065353394, 0.998824417591095, 0.5281459093093872, 0.46863651275634766, 0.9960429668426514, 0.9983840584754944, 0.993781328201294, 0.9416234493255615, 0.05655854940414429, 0.04228181391954422, 0.26344823837280273, 0.6927712559700012, 0.06383495777845383, 0.9250047206878662, 0.010839899070560932, 0.9907978773117065, 0.9876269698143005, 0.06690272688865662, 0.7139476537704468, 0.2188674956560135, 0.9912680387496948, 0.9980320334434509, 0.996903657913208, 0.9975542426109314, 0.4792289137840271, 0.339499294757843, 0.0010916376486420631, 0.18012019991874695, 0.18868780136108398, 0.1503366231918335, 0.24851565062999725, 0.41265869140625, 0.9851483702659607, 0.6665399074554443, 0.33326995372772217, 0.9922179579734802, 0.9962998032569885, 0.9448575377464294, 0.0538734570145607, 0.9876232147216797, 0.9955464005470276, 0.9935156106948853, 0.39834800362586975, 0.5998113751411438, 0.9932584166526794, 0.9926384091377258, 0.9991896748542786, 0.9957424402236938, 0.9887328147888184, 0.9893668293952942, 0.9965662360191345, 0.9847694635391235, 0.9847683906555176, 0.6580492258071899, 0.3409746587276459, 0.985084593296051, 0.26168808341026306, 0.7227575778961182, 0.45661285519599915, 0.5424895882606506, 0.9988508224487305, 0.32413655519485474, 0.674284040927887, 0.9794678092002869, 0.9927416443824768, 0.9944833517074585, 0.9959200024604797, 0.9912179708480835, 0.43848392367362976, 0.5615876913070679, 0.9991397261619568, 0.9958587884902954, 0.986232578754425, 0.5217938423156738, 0.4783110022544861, 0.9885408282279968, 0.9889668822288513, 0.9945211410522461, 0.9991630911827087, 0.9942581653594971, 0.30413171648979187, 0.6552146077156067, 0.01541681494563818, 0.0035038215573877096, 0.02172369323670864, 0.19084800779819489, 0.8081220388412476, 0.9971886873245239, 0.975509762763977, 0.9797191619873047, 0.9976732730865479, 0.9905204176902771, 0.7889586091041565, 0.210576131939888, 0.9981167912483215, 0.9965699911117554, 0.9881143569946289, 0.9919043183326721, 0.997909426689148, 0.9804813861846924, 0.9851901531219482, 0.8616852164268494, 0.13556502759456635, 0.0016945628449320793, 0.24893687665462494, 0.4058753550052643, 0.34093528985977173, 0.9904545545578003, 0.6643548011779785, 0.27562859654426575, 0.05917026847600937, 0.999687135219574, 0.9898185133934021, 0.9903616905212402, 0.9898078441619873, 0.42157015204429626, 0.5682032704353333, 0.641967236995697, 0.3563573360443115, 0.9888956546783447, 0.998963475227356, 0.9932645559310913, 0.998576283454895, 0.9971997737884521, 0.9964938163757324, 0.9937242865562439, 0.9893152713775635, 0.9979146718978882, 0.993908703327179, 0.996813952922821, 0.3992806077003479, 0.018472056835889816, 0.5811593532562256, 0.9992836117744446, 0.9930069446563721, 0.20899689197540283, 0.18143686652183533, 0.6086173057556152, 0.9910510778427124, 0.9944601058959961, 0.9857978820800781, 0.9833840727806091, 0.9951716661453247, 0.9893971681594849, 0.07683146744966507, 0.45702841877937317, 0.4617808759212494, 0.004752461798489094, 0.205403670668602, 0.791488766670227, 0.9932916164398193, 0.9938710927963257, 0.15778811275959015, 0.840221643447876, 0.06689782440662384, 0.1140303760766983, 0.6172844171524048, 0.20069345831871033, 0.9990131855010986, 0.7899742126464844, 0.2063162922859192, 0.954536497592926, 0.04150158911943436, 0.9958400726318359, 0.9850213527679443, 0.997789204120636, 0.9998549222946167, 0.9926781058311462, 0.26604577898979187, 0.7340299487113953, 0.9933314323425293, 0.9987432956695557, 0.9975046515464783, 0.3125918507575989, 0.6871122717857361, 0.21235686540603638, 0.4152335226535797, 0.01706439070403576, 0.35456013679504395, 0.9980387091636658, 0.9908314347267151, 0.11589404940605164, 0.8831126689910889, 0.9929237365722656, 0.7709091305732727, 0.22700239717960358, 0.9966999888420105, 0.9857349395751953, 0.00985734909772873, 0.9959669709205627, 0.9915281534194946, 0.8211753368377686, 0.14518018066883087, 0.01996227353811264, 0.013610641472041607, 0.9179297089576721, 0.0075333695858716965, 0.010729344561696053, 0.06323464959859848, 0.0004565678536891937, 0.17560239136219025, 0.8239436745643616, 0.9914153218269348, 0.28142762184143066, 0.3228285312652588, 0.39552658796310425, 0.9849722981452942, 0.992561399936676, 0.9986163377761841, 0.9961622357368469, 0.9963126182556152, 0.990879476070404, 0.3879314363002777, 0.00411234749481082, 0.6072565913200378, 0.9866948127746582, 0.9846535325050354, 0.9980735778808594, 0.9989542961120605, 0.999089241027832, 0.006332005374133587, 0.9941248297691345, 0.9870687127113342, 0.9959605932235718, 0.9967900514602661, 0.9985442757606506, 0.9977638125419617, 0.997836172580719, 0.5528544187545776, 0.07872927188873291, 0.3674032688140869, 0.9884151220321655, 0.9990350604057312, 0.990215003490448, 0.3014078140258789, 0.6921216249465942, 0.9803316593170166, 0.9766035676002502, 0.02113860473036766, 0.9921873211860657, 0.9976089596748352, 0.9985293745994568, 0.9967746138572693, 0.9994845986366272, 0.9973641633987427, 0.9926251173019409, 0.9917133450508118, 0.9977162480354309, 0.9864658117294312, 0.9825409054756165, 0.9961521029472351, 0.9977875351905823, 0.9941474199295044, 0.998894989490509, 0.612948477268219, 0.3866923153400421, 0.3417113423347473, 0.3860510289669037, 0.0029559803660959005, 0.24091239273548126, 0.02808181382715702, 0.9207572340965271, 0.0775175541639328, 0.9795569777488708, 0.996284544467926, 0.5934356451034546, 0.36134254932403564, 0.04447292909026146, 0.9975416660308838, 0.0111729446798563, 0.4916095733642578, 0.14860017597675323, 0.30837327241897583, 0.04022260382771492, 0.023141639307141304, 0.9106915593147278, 0.06534110009670258, 0.07104917615652084, 0.009070107713341713, 0.6273490786552429, 0.29326680302619934, 0.28244051337242126, 0.713533878326416, 0.09592049568891525, 0.18288841843605042, 0.002557880012318492, 0.657375156879425, 0.0601101778447628, 0.2773938477039337, 0.7181841135025024, 0.006417882163077593, 0.010268611833453178, 0.983219563961029, 0.9439613819122314, 0.05540642887353897, 0.9984623193740845, 0.9790390133857727, 0.9963035583496094, 0.9914761781692505, 0.997717022895813, 0.9986019134521484, 0.6514957547187805, 0.19398468732833862, 0.15189367532730103, 0.9897298812866211, 0.9859080910682678, 0.9991570115089417, 0.9880141615867615, 0.9947660565376282, 0.9912581443786621, 0.9950857758522034, 0.9989203810691833, 0.9817025661468506, 0.9964262843132019, 0.7877313494682312, 0.2106233537197113, 0.9497725963592529, 0.046786829829216, 0.9933143854141235, 0.9882245063781738, 0.9913849830627441, 0.9978932738304138, 0.9768229722976685, 0.997482180595398, 0.9952662587165833, 0.985835075378418, 0.9918217062950134, 0.04293930158019066, 0.14748716354370117, 0.8093124628067017, 0.4345305860042572, 0.17274372279644012, 0.39238351583480835, 0.2600783705711365, 0.2744133770465851, 0.46486446261405945, 0.9944453835487366, 0.9900493025779724, 0.38204851746559143, 0.053809650242328644, 0.5596203804016113, 0.9970301985740662, 0.992939829826355, 0.992699146270752, 0.5562126040458679, 0.44329723715782166, 0.9994795322418213, 0.9918524026870728, 0.9944777488708496, 0.06232026219367981, 0.9348039031028748, 0.9894596338272095, 0.9959991574287415, 0.9257630705833435, 0.06241099163889885, 0.9974254965782166, 0.978863537311554, 0.9944553375244141, 0.9952008128166199, 0.9924999475479126, 0.7602784633636475, 0.23953072726726532, 0.9983212947845459, 0.9887157082557678, 0.9915979504585266, 0.3298441767692566, 0.66648930311203, 0.9966049790382385, 0.9971771836280823, 0.9986785650253296, 0.27323320508003235, 0.15120239555835724, 0.008239306509494781, 0.04542752727866173, 0.5217484831809998, 0.991186261177063, 0.9944763779640198, 0.9962213635444641, 0.9857964515686035, 0.012384377419948578, 0.9950270652770996, 0.42413094639778137, 0.5711629986763, 0.9968785047531128, 0.9941827654838562, 0.9894724488258362, 0.9757747650146484, 0.4664638638496399, 0.5329638719558716, 0.32419469952583313, 0.3851335346698761, 0.29006892442703247, 0.9915400147438049, 0.9862462878227234, 0.9921460151672363, 0.3489181697368622, 0.6396833062171936, 0.9943247437477112, 0.9974019527435303, 0.9847791194915771, 0.9965054988861084, 0.9865374565124512, 0.9930222630500793, 0.9970710873603821, 0.9861301183700562, 0.41072192788124084, 0.5849675536155701, 0.0456102080643177, 0.954165518283844, 0.9980913400650024, 0.9852864146232605, 0.9945720434188843, 0.9825692176818848, 0.999465823173523, 0.9707511067390442, 0.9980200529098511, 0.002008088631555438, 0.9889053106307983, 0.9976582527160645, 0.12971332669258118, 0.766410768032074, 0.01186919305473566, 0.09071454405784607, 0.9966117739677429, 0.9933748841285706, 0.9967669248580933, 0.9955700039863586, 0.004080205224454403, 0.9982153177261353, 0.9973211884498596, 0.9938067197799683, 0.9990097284317017, 0.9990107417106628, 0.9901762008666992, 0.9926723837852478, 0.9949948787689209, 0.9942082762718201, 0.9980685114860535, 0.9896083474159241, 0.997695803642273, 0.9989844560623169, 0.9865067005157471, 0.9962514042854309, 0.9939693808555603, 0.3883284330368042, 0.6057923436164856, 0.9936794638633728, 0.9810518622398376, 0.01791875623166561, 0.9921435713768005, 0.046678610146045685, 0.9522436857223511, 0.992739737033844, 0.996635377407074, 0.9987049698829651, 0.38455134630203247, 0.4015592336654663, 0.21389587223529816, 0.9969374537467957, 0.9963733553886414, 0.9980632066726685, 0.9971903562545776, 0.9949169158935547, 0.9823799133300781, 0.9880672693252563, 0.5360112190246582, 0.4563521146774292, 0.006750771310180426, 0.9941307306289673, 0.9978604316711426, 0.9970450401306152, 0.9635241627693176, 0.03517938032746315, 0.997515857219696, 0.9962026476860046, 0.25358638167381287, 0.08875523507595062, 0.6542528867721558, 0.014158962294459343, 0.0006742362747900188, 0.9405596256256104, 0.04449959471821785, 0.9933722019195557, 0.16665448248386383, 0.833272397518158, 0.9990054368972778, 0.2808883786201477, 0.02942640148103237, 0.6875077486038208, 0.5777153968811035, 0.13949713110923767, 0.2818123996257782, 0.9950007200241089, 0.996860921382904, 0.9819324016571045, 0.08623278886079788, 0.15450040996074677, 0.7150135636329651, 0.04311639443039894, 0.9889237880706787, 0.9939920902252197, 0.9862340092658997, 0.21569307148456573, 0.5965754389762878, 0.15151122212409973, 0.03577348217368126, 0.9978375434875488, 0.5037823915481567, 0.4938393235206604, 0.7408040165901184, 0.25901299715042114, 0.9955009818077087, 0.9987338781356812, 0.6983885169029236, 0.3011016249656677, 0.9220402836799622, 0.0779188945889473, 0.9978622198104858, 0.997775673866272, 0.0034317735116928816, 0.9952142834663391, 0.983364462852478, 0.9841510653495789, 0.9974098801612854, 0.9959526062011719, 0.9981269836425781, 0.9952148795127869, 0.078517384827137, 0.767853856086731, 0.14808610081672668, 0.005196003243327141, 0.13021935522556305, 0.8258649110794067, 0.035410527139902115, 0.003426825162023306, 0.003426825162023306, 0.995025634765625, 0.9989259839057922, 0.9924964308738708, 0.9964882135391235, 0.0022829053923487663, 0.9946324229240417, 0.1501288264989853, 0.2948959171772003, 0.552259624004364, 0.013967618346214294, 0.19554665684700012, 0.7891704440116882, 0.9893105030059814, 0.9942623972892761, 0.8422537446022034, 0.1454053670167923, 0.011659864336252213, 0.9857969880104065, 0.9971898198127747, 0.11560817807912827, 0.6892865300178528, 0.14832746982574463, 0.00436257291585207, 0.04144444316625595, 0.30739885568618774, 0.05424685403704643, 0.011301428079605103, 0.6260991096496582, 0.9907647967338562, 0.3863297402858734, 0.16317704319953918, 0.362555593252182, 0.05133052542805672, 0.03674184903502464, 0.9992759823799133, 0.9930995106697083, 0.9945592284202576, 0.9930739402770996, 0.989271342754364, 0.21536175906658173, 0.775519847869873, 0.008701484650373459, 0.9975422024726868, 0.9991662502288818, 0.9966850876808167, 0.025154631584882736, 0.8129976987838745, 0.0020123706199228764, 0.07546389847993851, 0.08351337909698486, 0.999184250831604, 0.9839351177215576, 0.9969903230667114, 0.18088755011558533, 0.7748327851295471, 0.04289086163043976, 0.9981183409690857, 0.993847668170929, 0.10914803296327591, 0.8884916305541992, 0.001996610313653946, 0.9919377565383911, 0.9981135129928589, 0.13151711225509644, 0.8673326373100281, 0.9969568848609924, 0.4681706130504608, 0.5305933356285095, 0.1121370941400528, 0.8157973289489746, 0.07008568197488785, 0.0028034274000674486, 0.9988417625427246, 0.9900286197662354], \"Term\": [\"absolutely\", \"absolutely\", \"additional\", \"ago\", \"airport\", \"amazing\", \"amazing\", \"annoying\", \"answered\", \"anymore\", \"appointment\", \"appointment\", \"area\", \"asked\", \"atmosphere\", \"atmosphere\", \"authentic\", \"available\", \"average\", \"away\", \"away\", \"awesome\", \"awesome\", \"awesome\", \"bad\", \"bad\", \"bad\", \"bag\", \"bank\", \"bar\", \"bar\", \"bar\", \"bed\", \"beef\", \"beer\", \"beers\", \"best\", \"best\", \"best\", \"best\", \"big\", \"big\", \"big\", \"big\", \"bigger\", \"bit\", \"bit\", \"boba\", \"boyfriend\", \"breakfast\", \"breakfast\", \"brisket\", \"broken\", \"brunch\", \"buffet\", \"buffet\", \"buffets\", \"bunch\", \"burger\", \"burgers\", \"burrito\", \"businesses\", \"butter\", \"buying\", \"california\", \"called\", \"called\", \"calling\", \"calls\", \"calls\", \"came\", \"came\", \"car\", \"care\", \"care\", \"carpet\", \"cars\", \"certainly\", \"chain\", \"chair\", \"cheese\", \"cheese\", \"chicken\", \"chocolate\", \"christmas\", \"clean\", \"clean\", \"clear\", \"club\", \"cocktail\", \"coffee\", \"combo\", \"come\", \"come\", \"come\", \"come\", \"come\", \"company\", \"company\", \"completely\", \"consistently\", \"contacted\", \"cooked\", \"cookies\", \"cool\", \"cool\", \"cream\", \"crispy\", \"crust\", \"curry\", \"customers\", \"dad\", \"dance\", \"day\", \"day\", \"day\", \"days\", \"days\", \"days\", \"dealership\", \"definitely\", \"definitely\", \"definitely\", \"delicious\", \"delivered\", \"delivery\", \"department\", \"desk\", \"desk\", \"dessert\", \"dessert\", \"difference\", \"dinner\", \"discount\", \"dish\", \"dishes\", \"dog\", \"dogs\", \"donut\", \"donuts\", \"downtown\", \"dr\", \"drinks\", \"drinks\", \"drinks\", \"eat\", \"email\", \"enjoy\", \"enjoy\", \"enjoy\", \"enjoyable\", \"enjoying\", \"entree\", \"et\", \"exactly\", \"example\", \"experience\", \"experience\", \"experience\", \"experience\", \"extremely\", \"extremely\", \"fabulous\", \"fat\", \"favorite\", \"favorite\", \"feel\", \"feel\", \"feel\", \"feel\", \"finally\", \"fish\", \"fish\", \"fix\", \"fix\", \"flavors\", \"flight\", \"floor\", \"food\", \"forever\", \"free\", \"free\", \"french\", \"fresh\", \"fried\", \"friendly\", \"friendly\", \"friends\", \"friends\", \"friends\", \"friends\", \"fries\", \"fruit\", \"fun\", \"fun\", \"funny\", \"gave\", \"gave\", \"gel\", \"gets\", \"gets\", \"given\", \"giving\", \"going\", \"going\", \"going\", \"going\", \"good\", \"good\", \"good\", \"good\", \"good\", \"got\", \"got\", \"grab\", \"great\", \"great\", \"great\", \"grocery\", \"guacamole\", \"guy\", \"guys\", \"hair\", \"happened\", \"happy\", \"happy\", \"happy\", \"heat\", \"hell\", \"helped\", \"helpful\", \"highly\", \"hit\", \"hit\", \"hold\", \"honest\", \"honestly\", \"hotel\", \"hour\", \"hours\", \"house\", \"house\", \"house\", \"hungry\", \"ice\", \"indian\", \"information\", \"information\", \"informative\", \"inside\", \"inside\", \"insurance\", \"job\", \"kept\", \"kids\", \"know\", \"knowledgeable\", \"la\", \"lack\", \"later\", \"le\", \"learn\", \"leave\", \"left\", \"lemon\", \"let\", \"light\", \"light\", \"like\", \"like\", \"like\", \"like\", \"like\", \"line\", \"line\", \"listened\", \"literally\", \"little\", \"little\", \"little\", \"located\", \"location\", \"location\", \"location\", \"location\", \"location\", \"long\", \"long\", \"long\", \"looking\", \"looking\", \"looking\", \"looking\", \"lost\", \"lost\", \"lot\", \"lot\", \"lot\", \"lot\", \"lot\", \"lots\", \"lots\", \"love\", \"love\", \"love\", \"loved\", \"loved\", \"lunch\", \"lv\", \"mac\", \"mall\", \"manager\", \"meal\", \"meat\", \"meat\", \"meat\", \"medium\", \"men\", \"menu\", \"messed\", \"mexican\", \"milk\", \"mins\", \"minutes\", \"missed\", \"mom\", \"money\", \"money\", \"months\", \"months\", \"moved\", \"movie\", \"moving\", \"music\", \"naan\", \"nail\", \"nails\", \"natural\", \"neighborhood\", \"new\", \"new\", \"new\", \"nice\", \"nice\", \"nice\", \"night\", \"night\", \"night\", \"noodle\", \"normally\", \"number\", \"number\", \"number\", \"office\", \"oil\", \"onion\", \"order\", \"order\", \"ordered\", \"original\", \"outdoor\", \"outside\", \"outside\", \"pancakes\", \"paper\", \"par\", \"par\", \"parking\", \"particularly\", \"parts\", \"paul\", \"pedicure\", \"people\", \"people\", \"person\", \"pho\", \"phoenix\", \"phone\", \"phone\", \"pick\", \"pieces\", \"pizza\", \"place\", \"place\", \"place\", \"place\", \"place\", \"play\", \"pleasant\", \"plenty\", \"pm\", \"pm\", \"pool\", \"poor\", \"poor\", \"portion\", \"positive\", \"possible\", \"pour\", \"pretty\", \"pretty\", \"price\", \"price\", \"price\", \"pricing\", \"private\", \"process\", \"product\", \"product\", \"products\", \"professional\", \"property\", \"ramen\", \"ranch\", \"raw\", \"reason\", \"reasonably\", \"received\", \"received\", \"recommend\", \"recommend\", \"recommended\", \"refund\", \"remember\", \"rent\", \"restaurant\", \"restroom\", \"review\", \"review\", \"ribs\", \"rice\", \"right\", \"right\", \"right\", \"right\", \"road\", \"rock\", \"roll\", \"room\", \"room\", \"rooms\", \"rude\", \"sad\", \"said\", \"salad\", \"salads\", \"sales\", \"salmon\", \"salon\", \"salsa\", \"salty\", \"sandwich\", \"sauce\", \"save\", \"saw\", \"school\", \"scottsdale\", \"scottsdale\", \"seat\", \"seating\", \"seating\", \"seats\", \"selection\", \"selection\", \"sent\", \"served\", \"server\", \"service\", \"service\", \"service\", \"shop\", \"showed\", \"shrimp\", \"sit\", \"skin\", \"sleep\", \"slice\", \"small\", \"small\", \"small\", \"solid\", \"soup\", \"space\", \"special\", \"special\", \"spicy\", \"spinach\", \"spot\", \"spot\", \"spot\", \"staff\", \"staff\", \"staff\", \"staff\", \"standard\", \"stay\", \"stay\", \"steak\", \"stop\", \"stop\", \"stop\", \"store\", \"store\", \"store\", \"stores\", \"strip\", \"stuck\", \"stuff\", \"stuff\", \"stuff\", \"stuff\", \"stuffed\", \"stylist\", \"sugar\", \"sure\", \"sure\", \"sure\", \"sure\", \"sushi\", \"sweet\", \"sweet\", \"table\", \"table\", \"taco\", \"tacos\", \"taking\", \"taking\", \"taste\", \"taste\", \"tasted\", \"tasty\", \"tea\", \"tea\", \"tech\", \"technician\", \"tell\", \"terrible\", \"thank\", \"thanks\", \"time\", \"time\", \"time\", \"time\", \"times\", \"times\", \"times\", \"times\", \"times\", \"toast\", \"told\", \"tom\", \"took\", \"took\", \"toppings\", \"totally\", \"totally\", \"totally\", \"town\", \"town\", \"town\", \"treatment\", \"truck\", \"try\", \"try\", \"try\", \"typical\", \"unfortunately\", \"use\", \"use\", \"use\", \"use\", \"use\", \"usually\", \"usually\", \"usually\", \"usually\", \"vacation\", \"ve\", \"ve\", \"ve\", \"ve\", \"ve\", \"vegas\", \"vegetarian\", \"vet\", \"view\", \"visits\", \"wait\", \"wait\", \"wait\", \"waited\", \"waiting\", \"walked\", \"want\", \"want\", \"want\", \"want\", \"want\", \"wanted\", \"warranty\", \"waste\", \"way\", \"way\", \"way\", \"week\", \"weeks\", \"went\", \"went\", \"went\", \"window\", \"wine\", \"work\", \"work\", \"worst\", \"worth\", \"worth\", \"year\", \"year\", \"year\", \"year\", \"years\", \"yesterday\"]}, \"R\": 30, \"lambda.step\": 0.01, \"plot.opts\": {\"xlab\": \"PC1\", \"ylab\": \"PC2\"}, \"topic.order\": [5, 1, 2, 7, 6, 8, 9, 3, 4, 10]};\n",
       "\n",
       "function LDAvis_load_lib(url, callback){\n",
       "  var s = document.createElement('script');\n",
       "  s.src = url;\n",
       "  s.async = true;\n",
       "  s.onreadystatechange = s.onload = callback;\n",
       "  s.onerror = function(){console.warn(\"failed to load library \" + url);};\n",
       "  document.getElementsByTagName(\"head\")[0].appendChild(s);\n",
       "}\n",
       "\n",
       "if(typeof(LDAvis) !== \"undefined\"){\n",
       "   // already loaded: just create the visualization\n",
       "   !function(LDAvis){\n",
       "       new LDAvis(\"#\" + \"ldavis_el183851403837375838002372337495\", ldavis_el183851403837375838002372337495_data);\n",
       "   }(LDAvis);\n",
       "}else if(typeof define === \"function\" && define.amd){\n",
       "   // require.js is available: use it to load d3/LDAvis\n",
       "   require.config({paths: {d3: \"https://cdnjs.cloudflare.com/ajax/libs/d3/3.5.5/d3.min\"}});\n",
       "   require([\"d3\"], function(d3){\n",
       "      window.d3 = d3;\n",
       "      LDAvis_load_lib(\"https://cdn.rawgit.com/bmabey/pyLDAvis/files/ldavis.v1.0.0.js\", function(){\n",
       "        new LDAvis(\"#\" + \"ldavis_el183851403837375838002372337495\", ldavis_el183851403837375838002372337495_data);\n",
       "      });\n",
       "    });\n",
       "}else{\n",
       "    // require.js not available: dynamically load d3 & LDAvis\n",
       "    LDAvis_load_lib(\"https://cdnjs.cloudflare.com/ajax/libs/d3/3.5.5/d3.min.js\", function(){\n",
       "         LDAvis_load_lib(\"https://cdn.rawgit.com/bmabey/pyLDAvis/files/ldavis.v1.0.0.js\", function(){\n",
       "                 new LDAvis(\"#\" + \"ldavis_el183851403837375838002372337495\", ldavis_el183851403837375838002372337495_data);\n",
       "            })\n",
       "         });\n",
       "}\n",
       "</script>"
      ],
      "text/plain": [
       "PreparedData(topic_coordinates=              x         y  topics  cluster       Freq\n",
       "topic                                                \n",
       "4     -0.252280 -0.071409       1        1  23.720123\n",
       "0     -0.234316  0.127955       2        1  23.003229\n",
       "1     -0.151692  0.186402       3        1  13.257697\n",
       "6     -0.158423 -0.109435       4        1  12.860229\n",
       "5     -0.061471 -0.170812       5        1   7.842518\n",
       "7      0.141069 -0.220393       6        1   4.819226\n",
       "8      0.162357  0.142023       7        1   4.366069\n",
       "2      0.188736  0.015038       8        1   3.647086\n",
       "3      0.172480  0.089112       9        1   3.625141\n",
       "9      0.193541  0.011518      10        1   2.858682, topic_info=     Category         Freq          Term        Total  loglift  logprob\n",
       "144   Default  4698.000000          food  4698.000000  30.0000  30.0000\n",
       "133   Default  4490.000000         place  4490.000000  29.0000  29.0000\n",
       "208   Default  4057.000000         great  4057.000000  28.0000  28.0000\n",
       "40    Default  4380.000000          good  4380.000000  27.0000  27.0000\n",
       "735   Default  1558.000000          love  1558.000000  26.0000  26.0000\n",
       "34    Default  3464.000000          time  3464.000000  25.0000  25.0000\n",
       "46    Default  1483.000000         staff  1483.000000  24.0000  24.0000\n",
       "394   Default   729.000000         pizza   729.000000  23.0000  23.0000\n",
       "1266  Default  1543.000000       ordered  1543.000000  22.0000  22.0000\n",
       "75    Default  2089.000000           got  2089.000000  21.0000  21.0000\n",
       "349   Default   852.000000        cheese   852.000000  20.0000  20.0000\n",
       "184   Default  1096.000000     recommend  1096.000000  19.0000  19.0000\n",
       "1277  Default  1384.000000       chicken  1384.000000  18.0000  18.0000\n",
       "103   Default   980.000000          room   980.000000  17.0000  17.0000\n",
       "116   Default   956.000000         vegas   956.000000  16.0000  16.0000\n",
       "2183  Default   578.000000           car   578.000000  15.0000  15.0000\n",
       "39    Default  1356.000000      friendly  1356.000000  14.0000  14.0000\n",
       "45    Default  3468.000000       service  3468.000000  13.0000  13.0000\n",
       "771   Default   609.000000         cream   609.000000  12.0000  12.0000\n",
       "478   Default  1252.000000          know  1252.000000  11.0000  11.0000\n",
       "651   Default  1272.000000    restaurant  1272.000000  10.0000  10.0000\n",
       "30    Default  1212.000000          said  1212.000000   9.0000   9.0000\n",
       "359   Default  1203.000000     delicious  1203.000000   8.0000   8.0000\n",
       "122   Default  1832.000000          best  1832.000000   7.0000   7.0000\n",
       "180   Default  1174.000000          menu  1174.000000   6.0000   6.0000\n",
       "117   Default  1502.000000          went  1502.000000   5.0000   5.0000\n",
       "1066  Default  1071.000000           new  1071.000000   4.0000   4.0000\n",
       "192   Default  1384.000000       amazing  1384.000000   3.0000   3.0000\n",
       "131   Default  1511.000000        people  1511.000000   2.0000   2.0000\n",
       "18    Default  3382.000000          like  3382.000000   1.0000   1.0000\n",
       "...       ...          ...           ...          ...      ...      ...\n",
       "2971  Topic10   169.777100     literally   170.633987   3.5498  -4.3933\n",
       "2970  Topic10   165.948578       exactly   166.805389   3.5497  -4.4161\n",
       "919   Topic10   151.573425        pieces   152.430283   3.5492  -4.5067\n",
       "922   Topic10   135.946014         solid   136.802933   3.5485  -4.6155\n",
       "204   Topic10   133.041260      fabulous   133.898239   3.5484  -4.6371\n",
       "911   Topic10   102.151222        indian   103.007935   3.5465  -4.9013\n",
       "2969  Topic10    99.062584           bag    99.919472   3.5462  -4.9320\n",
       "206   Topic10    92.805946         funny    93.662781   3.5456  -4.9973\n",
       "3107  Topic10    81.831436    additional    82.688293   3.5444  -5.1231\n",
       "918   Topic10    81.600304         parts    82.457199   3.5444  -5.1260\n",
       "1037  Topic10    68.754501         chair    69.611328   3.5424  -5.2973\n",
       "554   Topic10    68.177254        flight    69.034035   3.5423  -5.3057\n",
       "3479  Topic10    67.604729       buffets    68.461540   3.5422  -5.3141\n",
       "4450  Topic10    67.487259   informative    68.344215   3.5422  -5.3159\n",
       "5056  Topic10    64.872726    difference    65.729889   3.5417  -5.3554\n",
       "3846  Topic10    64.290993         sleep    65.147911   3.5416  -5.3644\n",
       "2382  Topic10    59.417000  particularly    60.273979   3.5405  -5.4432\n",
       "4488  Topic10    57.952801     christmas    58.809658   3.5401  -5.4682\n",
       "3990  Topic10    57.939098            le    58.795753   3.5401  -5.4684\n",
       "4871  Topic10    57.000141         dance    57.856850   3.5399  -5.4847\n",
       "958   Topic10    53.198246           dad    54.055080   3.5388  -5.5538\n",
       "3998  Topic10    52.434311          pour    53.290985   3.5386  -5.5682\n",
       "3745  Topic10    52.219265     contacted    53.076435   3.5385  -5.5723\n",
       "916   Topic10    51.353344          naan    52.210075   3.5383  -5.5891\n",
       "3981  Topic10    48.971352            et    49.827938   3.5375  -5.6366\n",
       "2318  Topic10    46.784588         ranch    47.641373   3.5367  -5.6822\n",
       "2972  Topic10    45.700737        messed    46.558037   3.5362  -5.7057\n",
       "4835  Topic10    45.498859      restroom    46.355858   3.5361  -5.7101\n",
       "4061  Topic10    44.085171            lv    44.942028   3.5356  -5.7417\n",
       "907   Topic10   130.887054        buffet   218.401993   3.0428  -4.6535\n",
       "\n",
       "[471 rows x 6 columns], token_table=      Topic      Freq         Term\n",
       "term                              \n",
       "190       1  0.240509   absolutely\n",
       "190       3  0.758718   absolutely\n",
       "3107     10  0.991676   additional\n",
       "1680      3  0.997530          ago\n",
       "656       9  0.984000      airport\n",
       "192       1  0.501825      amazing\n",
       "192       3  0.497493      amazing\n",
       "7493      7  0.979324     annoying\n",
       "2451      9  0.993263     answered\n",
       "2401      7  0.995647      anymore\n",
       "562       2  0.050319  appointment\n",
       "562       3  0.945991  appointment\n",
       "50        4  0.999345         area\n",
       "421       2  0.998824        asked\n",
       "658       1  0.528146   atmosphere\n",
       "658       5  0.468637   atmosphere\n",
       "973       4  0.996043    authentic\n",
       "2682      4  0.998384    available\n",
       "1273      4  0.993781      average\n",
       "238       2  0.941623         away\n",
       "238       4  0.056559         away\n",
       "339       1  0.042282      awesome\n",
       "339       3  0.263448      awesome\n",
       "339       5  0.692771      awesome\n",
       "136       1  0.063835          bad\n",
       "136       2  0.925005          bad\n",
       "136       4  0.010840          bad\n",
       "2969     10  0.990798          bag\n",
       "5951      9  0.987627         bank\n",
       "137       1  0.066903          bar\n",
       "...     ...       ...          ...\n",
       "333       2  0.996685       walked\n",
       "313       1  0.025155         want\n",
       "313       2  0.812998         want\n",
       "313       3  0.002012         want\n",
       "313       4  0.075464         want\n",
       "313       5  0.083513         want\n",
       "533       2  0.999184       wanted\n",
       "3170      7  0.983935     warranty\n",
       "3003      7  0.996990        waste\n",
       "235       1  0.180888          way\n",
       "235       2  0.774833          way\n",
       "235       4  0.042891          way\n",
       "1437      3  0.998118         week\n",
       "673       3  0.993848        weeks\n",
       "117       1  0.109148         went\n",
       "117       2  0.888492         went\n",
       "117       3  0.001997         went\n",
       "956       5  0.991938       window\n",
       "315       1  0.998114         wine\n",
       "535       2  0.131517         work\n",
       "535       3  0.867333         work\n",
       "536       2  0.996957        worst\n",
       "764       1  0.468171        worth\n",
       "764       4  0.530593        worth\n",
       "119       2  0.112137         year\n",
       "119       3  0.815797         year\n",
       "119       4  0.070086         year\n",
       "119       9  0.002803         year\n",
       "766       3  0.998842        years\n",
       "417       8  0.990029    yesterday\n",
       "\n",
       "[622 rows x 3 columns], R=30, lambda_step=0.01, plot_opts={'xlab': 'PC1', 'ylab': 'PC2'}, topic_order=[5, 1, 2, 7, 6, 8, 9, 3, 4, 10])"
      ]
     },
     "execution_count": 48,
     "metadata": {},
     "output_type": "execute_result"
    }
   ],
   "source": [
    "pyLDAvis.enable_notebook()\n",
    "pyLDAvis.gensim.prepare(lda_model, corpus, id2word)"
   ]
  },
  {
   "cell_type": "markdown",
   "metadata": {},
   "source": [
    "## Analysis\n",
    "\n",
    "I could have definitely done more stopword cleanup as it seems some topics have words that might be somewhat unhelpful like \"got.\" The topics definitely seem very distinct but I think I could have chosen less than 10, at the very least 9 as topics 8 and 10 are almost completely overlapping and have very similar keywords. Some things that I found interesting is topics like topic 1 which seems to be well liked restaurants, topic 4 seems to be hotels and restaurants in Las Vegas or topic 2 which seems to be people who waited a long time for something."
   ]
  },
  {
   "cell_type": "code",
   "execution_count": null,
   "metadata": {},
   "outputs": [],
   "source": [
    "# Try again with fewer topics\n",
    "\n",
    "lda_model = gensim.models.ldamodel.LdaModel(corpus=corpus,\n",
    "                                            id2word=id2word,\n",
    "                                            num_topics=5,\n",
    "                                            random_state=42,\n",
    "                                            update_every=1,\n",
    "                                            chunksize=200,\n",
    "                                            passes=10,\n",
    "                                            alpha='auto',\n",
    "                                            per_word_topics=False)"
   ]
  },
  {
   "cell_type": "code",
   "execution_count": 54,
   "metadata": {},
   "outputs": [
    {
     "name": "stderr",
     "output_type": "stream",
     "text": [
      "/usr/local/anaconda3/envs/nlp/lib/python3.7/site-packages/pyLDAvis/_prepare.py:257: FutureWarning: Sorting because non-concatenation axis is not aligned. A future version\n",
      "of pandas will change to not sort by default.\n",
      "\n",
      "To accept the future behavior, pass 'sort=False'.\n",
      "\n",
      "To retain the current behavior and silence the warning, pass 'sort=True'.\n",
      "\n",
      "  return pd.concat([default_term_info] + list(topic_dfs))\n"
     ]
    },
    {
     "data": {
      "text/html": [
       "\n",
       "<link rel=\"stylesheet\" type=\"text/css\" href=\"https://cdn.rawgit.com/bmabey/pyLDAvis/files/ldavis.v1.0.0.css\">\n",
       "\n",
       "\n",
       "<div id=\"ldavis_el183851403837153777043046385129\"></div>\n",
       "<script type=\"text/javascript\">\n",
       "\n",
       "var ldavis_el183851403837153777043046385129_data = {\"mdsDat\": {\"x\": [0.1827199762448329, 0.06804825819905279, 0.15045229539127328, -0.07631258804448968, -0.3249079417906696], \"y\": [-0.046415150717514196, -0.1375246302583392, 0.28011379383517737, -0.2234642611092393, 0.12729024824991542], \"topics\": [1, 2, 3, 4, 5], \"cluster\": [1, 1, 1, 1, 1], \"Freq\": [35.77894592285156, 22.980371475219727, 20.278162002563477, 16.659849166870117, 4.302671432495117]}, \"tinfo\": {\"Category\": [\"Default\", \"Default\", \"Default\", \"Default\", \"Default\", \"Default\", \"Default\", \"Default\", \"Default\", \"Default\", \"Default\", \"Default\", \"Default\", \"Default\", \"Default\", \"Default\", \"Default\", \"Default\", \"Default\", \"Default\", \"Default\", \"Default\", \"Default\", \"Default\", \"Default\", \"Default\", \"Default\", \"Default\", \"Default\", \"Default\", \"Topic1\", \"Topic1\", \"Topic1\", \"Topic1\", \"Topic1\", \"Topic1\", \"Topic1\", \"Topic1\", \"Topic1\", \"Topic1\", \"Topic1\", \"Topic1\", \"Topic1\", \"Topic1\", \"Topic1\", \"Topic1\", \"Topic1\", \"Topic1\", \"Topic1\", \"Topic1\", \"Topic1\", \"Topic1\", \"Topic1\", \"Topic1\", \"Topic1\", \"Topic1\", \"Topic1\", \"Topic1\", \"Topic1\", \"Topic1\", \"Topic1\", \"Topic1\", \"Topic1\", \"Topic1\", \"Topic1\", \"Topic1\", \"Topic1\", \"Topic1\", \"Topic1\", \"Topic1\", \"Topic1\", \"Topic1\", \"Topic1\", \"Topic1\", \"Topic1\", \"Topic1\", \"Topic1\", \"Topic1\", \"Topic1\", \"Topic1\", \"Topic1\", \"Topic1\", \"Topic1\", \"Topic1\", \"Topic1\", \"Topic1\", \"Topic1\", \"Topic2\", \"Topic2\", \"Topic2\", \"Topic2\", \"Topic2\", \"Topic2\", \"Topic2\", \"Topic2\", \"Topic2\", \"Topic2\", \"Topic2\", \"Topic2\", \"Topic2\", \"Topic2\", \"Topic2\", \"Topic2\", \"Topic2\", \"Topic2\", \"Topic2\", \"Topic2\", \"Topic2\", \"Topic2\", \"Topic2\", \"Topic2\", \"Topic2\", \"Topic2\", \"Topic2\", \"Topic2\", \"Topic2\", \"Topic2\", \"Topic2\", \"Topic2\", \"Topic2\", \"Topic2\", \"Topic2\", \"Topic2\", \"Topic2\", \"Topic2\", \"Topic2\", \"Topic2\", \"Topic2\", \"Topic2\", \"Topic2\", \"Topic2\", \"Topic2\", \"Topic2\", \"Topic2\", \"Topic2\", \"Topic2\", \"Topic2\", \"Topic2\", \"Topic2\", \"Topic2\", \"Topic2\", \"Topic2\", \"Topic2\", \"Topic2\", \"Topic2\", \"Topic2\", \"Topic2\", \"Topic2\", \"Topic2\", \"Topic2\", \"Topic2\", \"Topic2\", \"Topic2\", \"Topic2\", \"Topic2\", \"Topic3\", \"Topic3\", \"Topic3\", \"Topic3\", \"Topic3\", \"Topic3\", \"Topic3\", \"Topic3\", \"Topic3\", \"Topic3\", \"Topic3\", \"Topic3\", \"Topic3\", \"Topic3\", \"Topic3\", \"Topic3\", \"Topic3\", \"Topic3\", \"Topic3\", \"Topic3\", \"Topic3\", \"Topic3\", \"Topic3\", \"Topic3\", \"Topic3\", \"Topic3\", \"Topic3\", \"Topic3\", \"Topic3\", \"Topic3\", \"Topic3\", \"Topic3\", \"Topic3\", \"Topic3\", \"Topic3\", \"Topic3\", \"Topic3\", \"Topic3\", \"Topic3\", \"Topic3\", \"Topic3\", \"Topic3\", \"Topic3\", \"Topic3\", \"Topic4\", \"Topic4\", \"Topic4\", \"Topic4\", \"Topic4\", \"Topic4\", \"Topic4\", \"Topic4\", \"Topic4\", \"Topic4\", \"Topic4\", \"Topic4\", \"Topic4\", \"Topic4\", \"Topic4\", \"Topic4\", \"Topic4\", \"Topic4\", \"Topic4\", \"Topic4\", \"Topic4\", \"Topic4\", \"Topic4\", \"Topic4\", \"Topic4\", \"Topic4\", \"Topic4\", \"Topic4\", \"Topic4\", \"Topic4\", \"Topic4\", \"Topic4\", \"Topic4\", \"Topic4\", \"Topic4\", \"Topic4\", \"Topic4\", \"Topic4\", \"Topic4\", \"Topic4\", \"Topic4\", \"Topic4\", \"Topic4\", \"Topic4\", \"Topic4\", \"Topic4\", \"Topic4\", \"Topic4\", \"Topic4\", \"Topic4\", \"Topic4\", \"Topic4\", \"Topic4\", \"Topic4\", \"Topic4\", \"Topic5\", \"Topic5\", \"Topic5\", \"Topic5\", \"Topic5\", \"Topic5\", \"Topic5\", \"Topic5\", \"Topic5\", \"Topic5\", \"Topic5\", \"Topic5\", \"Topic5\", \"Topic5\", \"Topic5\", \"Topic5\", \"Topic5\", \"Topic5\", \"Topic5\", \"Topic5\", \"Topic5\", \"Topic5\", \"Topic5\", \"Topic5\", \"Topic5\", \"Topic5\", \"Topic5\", \"Topic5\", \"Topic5\", \"Topic5\", \"Topic5\", \"Topic5\", \"Topic5\", \"Topic5\", \"Topic5\", \"Topic5\", \"Topic5\", \"Topic5\", \"Topic5\", \"Topic5\", \"Topic5\"], \"Freq\": [4186.0, 4577.0, 4691.0, 903.0, 4366.0, 2074.0, 1362.0, 1529.0, 1624.0, 1873.0, 1198.0, 1416.0, 1399.0, 957.0, 1188.0, 1702.0, 864.0, 939.0, 1426.0, 406.0, 3424.0, 1428.0, 674.0, 749.0, 796.0, 719.0, 3469.0, 1484.0, 883.0, 1061.0, 4186.12646484375, 1623.234130859375, 1416.2197265625, 1398.476806640625, 726.2124633789062, 684.2632446289062, 645.85009765625, 639.6603393554688, 615.4094848632812, 508.3572998046875, 463.50543212890625, 447.22808837890625, 445.0498962402344, 410.7677307128906, 404.9122619628906, 364.52716064453125, 360.7133483886719, 391.303466796875, 334.4610290527344, 304.3733825683594, 1059.0333251953125, 282.6329040527344, 271.0043640136719, 263.786376953125, 253.71282958984375, 251.1731414794922, 234.12850952148438, 224.2890167236328, 223.57887268066406, 220.72866821289062, 4495.7724609375, 405.6455383300781, 1635.596435546875, 1795.90576171875, 927.5728149414062, 566.2341918945312, 1279.7864990234375, 612.1826171875, 434.3873291015625, 3901.6943359375, 713.7276000976562, 1294.0384521484375, 909.2520751953125, 1499.572265625, 3095.060791015625, 2486.166015625, 677.0692138671875, 1066.575439453125, 1834.2137451171875, 630.8303833007812, 702.6380615234375, 1444.2532958984375, 835.4911499023438, 756.2738037109375, 759.43408203125, 794.4684448242188, 648.5481567382812, 956.7743530273438, 795.9336547851562, 525.4935302734375, 436.1825256347656, 399.9973449707031, 376.6536865234375, 369.5718688964844, 323.50372314453125, 324.79443359375, 292.6114196777344, 249.00157165527344, 240.50804138183594, 232.8082733154297, 224.6479949951172, 212.89247131347656, 207.85235595703125, 193.5775146484375, 199.76678466796875, 179.3391571044922, 168.82249450683594, 165.57098388671875, 164.20596313476562, 160.54794311523438, 152.24508666992188, 148.95526123046875, 147.77320861816406, 148.50900268554688, 145.55429077148438, 143.9174041748047, 142.6971435546875, 326.85321044921875, 304.38250732421875, 209.43362426757812, 1144.0933837890625, 180.7819061279297, 1807.2315673828125, 482.2799072265625, 561.4743041992188, 242.57647705078125, 520.6104125976562, 274.997802734375, 421.7061767578125, 556.9091186523438, 706.8340454101562, 1125.693603515625, 941.1032104492188, 1068.1363525390625, 407.605224609375, 301.39990234375, 698.1498413085938, 616.0945434570312, 940.2551879882812, 383.0425720214844, 560.7877807617188, 1545.90576171875, 841.1736450195312, 517.166259765625, 417.56878662109375, 392.0284118652344, 592.1876220703125, 948.8059692382812, 470.54852294921875, 760.4913330078125, 567.239501953125, 430.3830871582031, 484.9010925292969, 462.5111083984375, 454.7601318359375, 1361.722412109375, 863.917724609375, 749.0703735351562, 718.7890014648438, 630.7557983398438, 597.3160400390625, 608.081787109375, 561.5598754882812, 519.1969604492188, 508.2401428222656, 508.6858215332031, 506.1749572753906, 494.2122802734375, 485.4671936035156, 466.731201171875, 457.111083984375, 438.2697448730469, 424.6656799316406, 410.4604187011719, 408.31634521484375, 407.15570068359375, 386.90533447265625, 382.0259094238281, 374.21624755859375, 367.75164794921875, 353.3006591796875, 337.6520080566406, 312.506591796875, 287.5791320800781, 287.66314697265625, 874.0994873046875, 1249.836181640625, 968.1517944335938, 422.0296325683594, 501.5688781738281, 730.7390747070312, 1270.61962890625, 613.9720458984375, 498.9272766113281, 597.1393432617188, 751.6475219726562, 448.2973937988281, 487.6125183105469, 531.0184936523438, 673.774169921875, 590.6226806640625, 496.87518310546875, 348.439697265625, 346.0582580566406, 338.9320373535156, 308.1921081542969, 295.3447265625, 263.25860595703125, 230.3533935546875, 223.8397216796875, 216.8896942138672, 212.53219604492188, 193.12010192871094, 187.5416259765625, 192.97406005859375, 179.5406494140625, 176.76821899414062, 171.4755096435547, 170.1431427001953, 154.2565155029297, 150.98252868652344, 141.85984802246094, 144.7349853515625, 140.90264892578125, 138.24966430664062, 139.34144592285156, 138.57925415039062, 136.7013702392578, 135.2147979736328, 137.74044799804688, 326.88751220703125, 333.523681640625, 227.6732635498047, 397.1058349609375, 609.8082275390625, 626.601318359375, 436.4277648925781, 353.77886962890625, 362.0902099609375, 235.64710998535156, 381.6841735839844, 507.24908447265625, 250.28565979003906, 290.248779296875, 292.8296203613281, 380.5055236816406, 217.08766174316406, 369.0809326171875, 362.1605529785156, 433.783935546875, 267.63525390625, 246.53675842285156, 299.1231994628906, 248.75616455078125, 406.0263366699219, 224.4670867919922, 187.9850616455078, 162.97933959960938, 132.14051818847656, 128.36231994628906, 115.33536529541016, 79.99408721923828, 70.98419189453125, 72.41461944580078, 67.86051940917969, 65.5987777709961, 66.07976531982422, 62.172420501708984, 62.88349914550781, 61.404666900634766, 61.33385467529297, 65.1412124633789, 58.47701644897461, 64.77363586425781, 60.066341400146484, 57.25368881225586, 53.57268142700195, 53.957603454589844, 51.6135368347168, 46.71414566040039, 46.56836700439453, 47.33020782470703, 46.99717712402344, 47.46891403198242, 47.6627197265625, 686.4564208984375, 92.89922332763672, 90.2527847290039, 71.28179931640625, 145.9547576904297, 72.39845275878906, 81.20667266845703, 68.18787384033203, 78.1162338256836, 65.64314270019531], \"Term\": [\"great\", \"place\", \"food\", \"room\", \"good\", \"got\", \"chicken\", \"ordered\", \"love\", \"best\", \"said\", \"amazing\", \"friendly\", \"minutes\", \"delicious\", \"nice\", \"cheese\", \"fresh\", \"came\", \"hotel\", \"time\", \"order\", \"store\", \"sauce\", \"asked\", \"meal\", \"service\", \"went\", \"work\", \"bar\", \"great\", \"love\", \"amazing\", \"friendly\", \"area\", \"prices\", \"super\", \"awesome\", \"coffee\", \"burger\", \"beer\", \"fun\", \"selection\", \"atmosphere\", \"spot\", \"tacos\", \"cool\", \"especially\", \"local\", \"makes\", \"bar\", \"beautiful\", \"lots\", \"music\", \"patio\", \"street\", \"priced\", \"seating\", \"space\", \"plenty\", \"place\", \"fast\", \"nice\", \"best\", \"vegas\", \"worth\", \"definitely\", \"excellent\", \"town\", \"food\", \"lot\", \"staff\", \"pretty\", \"ve\", \"good\", \"service\", \"clean\", \"little\", \"like\", \"happy\", \"location\", \"time\", \"come\", \"recommend\", \"better\", \"try\", \"experience\", \"minutes\", \"asked\", \"line\", \"waiting\", \"pm\", \"finally\", \"walked\", \"waited\", \"party\", \"sat\", \"arrived\", \"ready\", \"guess\", \"showed\", \"terrible\", \"girl\", \"tip\", \"crispy\", \"reservation\", \"glass\", \"understand\", \"noticed\", \"giving\", \"minute\", \"delivery\", \"waste\", \"min\", \"basically\", \"weren\", \"finished\", \"worst\", \"saw\", \"saying\", \"said\", \"greeted\", \"got\", \"let\", \"wanted\", \"taking\", \"left\", \"leave\", \"water\", \"away\", \"took\", \"went\", \"know\", \"came\", \"gave\", \"rude\", \"told\", \"bad\", \"order\", \"manager\", \"wasn\", \"time\", \"people\", \"table\", \"decided\", \"looked\", \"right\", \"like\", \"long\", \"service\", \"come\", \"hour\", \"wait\", \"way\", \"day\", \"chicken\", \"cheese\", \"sauce\", \"meal\", \"cream\", \"salad\", \"taste\", \"meat\", \"rice\", \"soup\", \"sushi\", \"fries\", \"ice\", \"flavor\", \"beef\", \"fried\", \"sandwich\", \"dishes\", \"bread\", \"dish\", \"steak\", \"tasted\", \"dessert\", \"spicy\", \"fish\", \"shrimp\", \"cooked\", \"pork\", \"chocolate\", \"chips\", \"fresh\", \"ordered\", \"delicious\", \"tasty\", \"sweet\", \"menu\", \"good\", \"restaurant\", \"eat\", \"try\", \"food\", \"lunch\", \"order\", \"like\", \"store\", \"car\", \"job\", \"hair\", \"professional\", \"company\", \"office\", \"appointment\", \"dr\", \"month\", \"salon\", \"weeks\", \"months\", \"nail\", \"nails\", \"helped\", \"card\", \"services\", \"questions\", \"knowledgeable\", \"gel\", \"class\", \"pedicure\", \"moved\", \"process\", \"team\", \"purchase\", \"products\", \"dogs\", \"purchased\", \"date\", \"help\", \"days\", \"fix\", \"business\", \"customer\", \"work\", \"called\", \"needed\", \"care\", \"phone\", \"years\", \"new\", \"thank\", \"owner\", \"use\", \"home\", \"dog\", \"recommend\", \"day\", \"time\", \"need\", \"shop\", \"experience\", \"look\", \"hotel\", \"pool\", \"rooms\", \"donuts\", \"casino\", \"color\", \"bed\", \"suite\", \"shower\", \"reasonably\", \"hole\", \"bus\", \"country\", \"hotels\", \"property\", \"furniture\", \"stylist\", \"answered\", \"carpet\", \"technician\", \"informative\", \"sleep\", \"resort\", \"state\", \"le\", \"pour\", \"beds\", \"tub\", \"points\", \"noise\", \"scheduled\", \"room\", \"stayed\", \"la\", \"possible\", \"stay\", \"knows\", \"floor\", \"desk\", \"strip\", \"view\"], \"Total\": [4186.0, 4577.0, 4691.0, 903.0, 4366.0, 2074.0, 1362.0, 1529.0, 1624.0, 1873.0, 1198.0, 1416.0, 1399.0, 957.0, 1188.0, 1702.0, 864.0, 939.0, 1426.0, 406.0, 3424.0, 1428.0, 674.0, 749.0, 796.0, 719.0, 3469.0, 1484.0, 883.0, 1061.0, 4186.89501953125, 1624.0228271484375, 1416.989013671875, 1399.2462158203125, 726.9827270507812, 685.0313110351562, 646.6195678710938, 640.4275512695312, 616.1799926757812, 509.1243591308594, 464.2685546875, 447.9966735839844, 445.8156433105469, 411.5306701660156, 405.6805419921875, 365.3042907714844, 361.4845275878906, 392.1500244140625, 335.23260498046875, 305.1510314941406, 1061.8570556640625, 283.4040222167969, 271.7719421386719, 264.55010986328125, 254.4805908203125, 251.94509887695312, 234.89952087402344, 225.05580139160156, 224.34915161132812, 221.50045776367188, 4577.6416015625, 409.36236572265625, 1702.4468994140625, 1873.9844970703125, 959.9307861328125, 579.0942993164062, 1352.1136474609375, 633.185546875, 447.2145080566406, 4691.091796875, 782.5870361328125, 1535.4644775390625, 1040.210693359375, 1865.964599609375, 4366.25244140625, 3469.92822265625, 752.4424438476562, 1440.2755126953125, 3366.1748046875, 744.3890380859375, 895.3321533203125, 3424.34423828125, 1415.07568359375, 1125.930908203125, 1139.180419921875, 1442.291748046875, 1265.0234375, 957.5367431640625, 796.6995849609375, 526.2606811523438, 436.9433898925781, 400.760986328125, 377.41796875, 370.33538818359375, 324.2629089355469, 325.56134033203125, 293.374755859375, 249.76461791992188, 241.2748565673828, 233.57420349121094, 225.4203643798828, 213.65345764160156, 208.61573791503906, 194.34193420410156, 200.56466674804688, 180.10488891601562, 169.59315490722656, 166.3345489501953, 164.9718780517578, 161.3184051513672, 153.00921630859375, 149.71994018554688, 148.5373077392578, 149.2931365966797, 146.32972717285156, 144.69476318359375, 143.4685821533203, 329.3102722167969, 306.65008544921875, 211.4258575439453, 1198.978515625, 182.62901306152344, 2074.218994140625, 516.1903076171875, 616.8196411132812, 251.52093505859375, 581.5004272460938, 289.9775695800781, 468.18267822265625, 646.9630737304688, 858.8150024414062, 1484.9490966796875, 1226.7916259765625, 1426.711181640625, 471.02471923828125, 326.6006774902344, 943.3729858398438, 821.4996948242188, 1428.432373046875, 447.9951477050781, 757.8336791992188, 3424.34423828125, 1495.6885986328125, 746.4777221679688, 538.3250732421875, 478.20989990234375, 1164.296630859375, 3366.1748046875, 725.926025390625, 3469.92822265625, 1415.07568359375, 597.273193359375, 909.6481323242188, 1056.3818359375, 1150.9351806640625, 1362.487548828125, 864.6840209960938, 749.833740234375, 719.5648803710938, 631.5241088867188, 598.0797729492188, 608.85986328125, 562.327880859375, 519.9605712890625, 509.0046691894531, 509.45184326171875, 506.9411926269531, 494.9910888671875, 486.2324523925781, 467.4944152832031, 457.87384033203125, 439.0410461425781, 425.43994140625, 411.227783203125, 409.0822448730469, 407.9212951660156, 387.6737976074219, 382.7939758300781, 374.9804992675781, 368.51788330078125, 354.0641784667969, 338.4167175292969, 313.2687072753906, 288.3479919433594, 288.4340515136719, 939.3252563476562, 1529.692626953125, 1188.1485595703125, 447.30474853515625, 611.4400024414062, 1163.743408203125, 4366.25244140625, 1263.8551025390625, 814.18603515625, 1442.291748046875, 4691.091796875, 749.2944946289062, 1428.432373046875, 3366.1748046875, 674.5516967773438, 591.397705078125, 497.6542053222656, 349.21051025390625, 346.8301696777344, 339.7026062011719, 308.9636535644531, 296.11328125, 264.0257873535156, 231.1417999267578, 224.60874938964844, 217.66908264160156, 213.31602478027344, 193.88844299316406, 188.31019592285156, 193.77464294433594, 180.3227996826172, 177.54263305664062, 172.2513427734375, 170.9219970703125, 155.0323486328125, 151.75811767578125, 142.63035583496094, 145.52464294433594, 141.67640686035156, 139.02206420898438, 140.12452697753906, 139.36097717285156, 137.479248046875, 135.99327087402344, 138.55886840820312, 345.7892150878906, 360.4351501464844, 240.34458923339844, 448.11004638671875, 737.5260009765625, 883.089111328125, 603.0435791015625, 477.6982116699219, 495.6534118652344, 285.3001708984375, 588.4676513671875, 1081.7200927734375, 328.19390869140625, 445.2437744140625, 458.3698425292969, 819.8688354492188, 258.9781188964844, 1125.930908203125, 1150.9351806640625, 3424.34423828125, 585.244384765625, 375.97857666015625, 1265.0234375, 554.5086669921875, 406.81207275390625, 225.25442504882812, 188.7681121826172, 163.78282165527344, 132.9281005859375, 129.18690490722656, 116.12080383300781, 80.77812957763672, 71.7710952758789, 73.2239761352539, 68.66559600830078, 66.38618469238281, 66.91116333007812, 62.95637130737305, 63.68109130859375, 62.20515060424805, 62.136497497558594, 66.0118408203125, 59.264652252197266, 65.65789031982422, 60.8879508972168, 58.04197692871094, 54.36613845825195, 54.763519287109375, 52.39152526855469, 47.496219635009766, 47.350494384765625, 48.13256072998047, 47.800514221191406, 48.28252410888672, 48.48408126831055, 903.7130126953125, 143.9090576171875, 142.53155517578125, 97.82113647460938, 351.0708923339844, 112.45124816894531, 196.69296264648438, 151.07958984375, 301.2732238769531, 172.15992736816406], \"loglift\": [30.0, 29.0, 28.0, 27.0, 26.0, 25.0, 24.0, 23.0, 22.0, 21.0, 20.0, 19.0, 18.0, 17.0, 16.0, 15.0, 14.0, 13.0, 12.0, 11.0, 10.0, 9.0, 8.0, 7.0, 6.0, 5.0, 4.0, 3.0, 2.0, 1.0, 1.0276000499725342, 1.0273000001907349, 1.0273000001907349, 1.0273000001907349, 1.0268000364303589, 1.0267000198364258, 1.0266000032424927, 1.0266000032424927, 1.0266000032424927, 1.0262999534606934, 1.0262000560760498, 1.0261000394821167, 1.0261000394821167, 1.0260000228881836, 1.0259000062942505, 1.0256999731063843, 1.0256999731063843, 1.0255999565124512, 1.0255000591278076, 1.0253000259399414, 1.0250999927520752, 1.0250999927520752, 1.024999976158142, 1.024899959564209, 1.0247999429702759, 1.0247000455856323, 1.0245000123977661, 1.024399995803833, 1.024399995803833, 1.0242999792099, 1.0097999572753906, 1.0187000036239624, 0.9878000020980835, 0.9853000044822693, 0.9934999942779541, 1.0053999423980713, 0.9728000164031982, 0.9940999746322632, 0.9987000226974487, 0.8435999751091003, 0.935699999332428, 0.8567000031471252, 0.8932999968528748, 0.8091999888420105, 0.6837000250816345, 0.6944000124931335, 0.9222999811172485, 0.727400004863739, 0.4205999970436096, 0.8622999787330627, 0.7854999899864197, 0.16449999809265137, 0.5008999705314636, 0.629800021648407, 0.6223000288009644, 0.43149998784065247, 0.3596999943256378, 1.4696999788284302, 1.469599962234497, 1.469099998474121, 1.4687999486923218, 1.4686000347137451, 1.468500018119812, 1.468500018119812, 1.4681999683380127, 1.4681999683380127, 1.467900037765503, 1.4674999713897705, 1.4673000574111938, 1.4672000408172607, 1.4671000242233276, 1.4670000076293945, 1.4668999910354614, 1.466599941253662, 1.4665000438690186, 1.4663000106811523, 1.465999960899353, 1.46589994430542, 1.46589994430542, 1.4657000303268433, 1.465499997138977, 1.465399980545044, 1.465399980545044, 1.4652999639511108, 1.4651999473571777, 1.4651000499725342, 1.4651000499725342, 1.4630000591278076, 1.4630999565124512, 1.4610999822616577, 1.423699975013733, 1.4603999853134155, 1.3327000141143799, 1.4026000499725342, 1.3765000104904175, 1.4342999458312988, 1.3598999977111816, 1.4175000190734863, 1.3660000562667847, 1.3206000328063965, 1.2757999897003174, 1.19350004196167, 1.205399990081787, 1.1811000108718872, 1.3258999586105347, 1.3902000188827515, 1.1694999933242798, 1.182800054550171, 1.052299976348877, 1.3138999938964844, 1.1693999767303467, 0.6751999855041504, 0.8949999809265137, 1.1035000085830688, 1.2165000438690186, 1.2718000411987305, 0.7944999933242798, 0.20419999957084656, 1.0369999408721924, -0.04740000143647194, 0.5564000010490417, 1.142799973487854, 0.8414000272750854, 0.644599974155426, 0.5419999957084656, 1.5951000452041626, 1.5946999788284302, 1.594599962234497, 1.594499945640564, 1.5944000482559204, 1.5943000316619873, 1.5943000316619873, 1.5943000316619873, 1.5942000150680542, 1.594099998474121, 1.594099998474121, 1.594099998474121, 1.594099998474121, 1.594099998474121, 1.593999981880188, 1.593999981880188, 1.5938999652862549, 1.5937999486923218, 1.5937999486923218, 1.5937999486923218, 1.5937000513076782, 1.5936000347137451, 1.5936000347137451, 1.5936000347137451, 1.593500018119812, 1.593500018119812, 1.593400001525879, 1.5931999683380127, 1.593000054359436, 1.592900037765503, 1.5236999988555908, 1.3935999870300293, 1.3909000158309937, 1.537500023841858, 1.3975000381469727, 1.1303000450134277, 0.3612000048160553, 0.8737000226974487, 1.1059000492095947, 0.7138000130653381, -0.23549999296665192, 1.0820000171661377, 0.520799994468689, -0.25110000371932983, 1.7910000085830688, 1.7908999919891357, 1.7905999422073364, 1.7899999618530273, 1.7898999452590942, 1.7898999452590942, 1.7897000312805176, 1.7896000146865845, 1.7892999649047852, 1.7888000011444092, 1.788699984550476, 1.788599967956543, 1.7884999513626099, 1.7882000207901, 1.788100004196167, 1.7879999876022339, 1.7877999544143677, 1.7877999544143677, 1.7877000570297241, 1.787600040435791, 1.7871999740600586, 1.7869999408721924, 1.7868000268936157, 1.7867000102996826, 1.7867000102996826, 1.7865999937057495, 1.7865999937057495, 1.7864999771118164, 1.7864999771118164, 1.7863999605178833, 1.7862000465393066, 1.7359999418258667, 1.7145999670028687, 1.7380000352859497, 1.6713000535964966, 1.6019999980926514, 1.4491000175476074, 1.4687999486923218, 1.4918999671936035, 1.4781999588012695, 1.6009999513626099, 1.3592000007629395, 1.0348999500274658, 1.5211999416351318, 1.364300012588501, 1.344099998474121, 1.0245000123977661, 1.6157000064849854, 0.676800012588501, 0.6359000205993652, -0.27399998903274536, 1.0097999572753906, 1.3701000213623047, 0.35019999742507935, 0.9905999898910522, 3.1440000534057617, 3.142400026321411, 3.1417999267578125, 3.1410000324249268, 3.140000104904175, 3.1394999027252197, 3.1391000747680664, 3.136199951171875, 3.1349000930786133, 3.1347999572753906, 3.1340999603271484, 3.134000062942505, 3.1333999633789062, 3.1333999633789062, 3.1333000659942627, 3.132999897003174, 3.1328999996185303, 3.132699966430664, 3.1326000690460205, 3.1324000358581543, 3.1322999000549316, 3.1322999000549316, 3.131200075149536, 3.1310999393463135, 3.13100004196167, 3.129300117492676, 3.129300117492676, 3.1291000843048096, 3.128999948501587, 3.1289000511169434, 3.1287999153137207, 2.871000051498413, 2.7083001136779785, 2.688999891281128, 2.829400062561035, 2.268199920654297, 2.7056000232696533, 2.2613000869750977, 2.350399971008301, 1.7961000204086304, 2.1816999912261963], \"logprob\": [30.0, 29.0, 28.0, 27.0, 26.0, 25.0, 24.0, 23.0, 22.0, 21.0, 20.0, 19.0, 18.0, 17.0, 16.0, 15.0, 14.0, 13.0, 12.0, 11.0, 10.0, 9.0, 8.0, 7.0, 6.0, 5.0, 4.0, 3.0, 2.0, 1.0, -3.7153000831604004, -4.662600040435791, -4.798999786376953, -4.811699867248535, -5.4670000076293945, -5.526400089263916, -5.584199905395508, -5.593900203704834, -5.632500171661377, -5.823599815368652, -5.915999889373779, -5.951700210571289, -5.956600189208984, -6.036799907684326, -6.05109977722168, -6.156199932098389, -6.1666998863220215, -6.085299968719482, -6.242300033569336, -6.33650016784668, -5.089700222015381, -6.410600185394287, -6.452700138092041, -6.479700088500977, -6.518599987030029, -6.52869987487793, -6.598899841308594, -6.641900062561035, -6.644999980926514, -6.657899856567383, -3.643899917602539, -6.049300193786621, -4.65500020980835, -4.561500072479248, -5.2221999168396, -5.715799808502197, -4.900300025939941, -5.637800216674805, -5.980899810791016, -3.785599946975708, -5.484300136566162, -4.8892998695373535, -5.242199897766113, -4.7418999671936035, -4.017199993133545, -4.236299991607666, -5.5370001792907715, -5.082600116729736, -4.54040002822876, -5.607800006866455, -5.5, -4.779399871826172, -5.3267998695373535, -5.426400184631348, -5.4222002029418945, -5.377099990844727, -5.580100059509277, -4.748499870300293, -4.932600021362305, -5.347700119018555, -5.533999919891357, -5.62060022354126, -5.680699825286865, -5.699699878692627, -5.832900047302246, -5.82889986038208, -5.933199882507324, -6.094600200653076, -6.129300117492676, -6.161900043487549, -6.197500228881836, -6.251299858093262, -6.275199890136719, -6.346399784088135, -6.314899921417236, -6.422800064086914, -6.4832000732421875, -6.502699851989746, -6.511000156402588, -6.5335001945495605, -6.586599826812744, -6.608399868011475, -6.616399765014648, -6.611400127410889, -6.631499767303467, -6.6427998542785645, -6.651299953460693, -5.8225998878479, -5.893799781799316, -6.2677001953125, -4.569699764251709, -6.41480016708374, -4.112500190734863, -5.433499813079834, -5.281499862670898, -6.120800018310547, -5.357100009918213, -5.995299816131592, -5.567800045013428, -5.289700031280518, -5.051300048828125, -4.585899829864502, -4.764999866485596, -4.638400077819824, -5.601799964904785, -5.903600215911865, -5.063600063323975, -5.188700199127197, -4.765900135040283, -5.663899898529053, -5.282700061798096, -4.268700122833252, -4.877299785614014, -5.363699913024902, -5.577600002288818, -5.640699863433838, -5.2281999588012695, -4.756899833679199, -5.458199977874756, -4.978099822998047, -5.271299839019775, -5.547399997711182, -5.428100109100342, -5.475399971008301, -5.492300033569336, -4.270500183105469, -4.725500106811523, -4.868100166320801, -4.90939998626709, -5.04010009765625, -5.0945000648498535, -5.076700210571289, -5.156300067901611, -5.2347002029418945, -5.25600004196167, -5.255099773406982, -5.2600998878479, -5.283999919891357, -5.3018999099731445, -5.34119987487793, -5.362100124359131, -5.404099941253662, -5.435699939727783, -5.469699859619141, -5.474899768829346, -5.477799892425537, -5.528800010681152, -5.541500091552734, -5.562099933624268, -5.579599857330322, -5.619699954986572, -5.664999961853027, -5.742400169372559, -5.825500011444092, -5.825200080871582, -4.713799953460693, -4.356200218200684, -4.611599922180176, -5.44189977645874, -5.269199848175049, -4.892899990081787, -4.339700222015381, -5.066999912261963, -5.274499893188477, -5.094799995422363, -4.864699840545654, -5.381499767303467, -5.297500133514404, -5.212200164794922, -4.777500152587891, -4.909299850463867, -5.082099914550781, -5.436999797821045, -5.44379997253418, -5.464600086212158, -5.559700012207031, -5.60230016708374, -5.717299938201904, -5.850800037384033, -5.879499912261963, -5.910999774932861, -5.931300163269043, -6.027100086212158, -6.056399822235107, -6.027900218963623, -6.099999904632568, -6.115600109100342, -6.145999908447266, -6.153800010681152, -6.251800060272217, -6.2733001708984375, -6.335599899291992, -6.315499782562256, -6.342400074005127, -6.361400127410889, -6.353499889373779, -6.359000205993652, -6.372600078582764, -6.383600234985352, -6.365099906921387, -5.500800132751465, -5.4807000160217285, -5.862500190734863, -5.30620002746582, -4.877299785614014, -4.850100040435791, -5.2118000984191895, -5.421800136566162, -5.398499965667725, -5.828100204467773, -5.345799922943115, -5.061399936676025, -5.7677998542785645, -5.619699954986572, -5.610799789428711, -5.348899841308594, -5.910099983215332, -5.37939977645874, -5.3983001708984375, -5.217899799346924, -5.700799942016602, -5.782899856567383, -5.589600086212158, -5.77400016784668, -3.930299997329712, -4.522900104522705, -4.700300216674805, -4.8429999351501465, -5.052800178527832, -5.0817999839782715, -5.188799858093262, -5.554699897766113, -5.674200057983398, -5.654300212860107, -5.719200134277344, -5.7530999183654785, -5.745800018310547, -5.80679988861084, -5.795400142669678, -5.819200038909912, -5.820300102233887, -5.7600998878479, -5.868000030517578, -5.7657999992370605, -5.84119987487793, -5.889200210571289, -5.955599784851074, -5.948500156402588, -5.9928998947143555, -6.092599868774414, -6.095699787139893, -6.079500198364258, -6.086599826812744, -6.076600074768066, -6.072500228881836, -3.405100107192993, -5.405200004577637, -5.434100151062012, -5.670000076293945, -4.953400135040283, -5.6545000076293945, -5.539700031280518, -5.714399814605713, -5.578499794006348, -5.752399921417236]}, \"token.table\": {\"Topic\": [1, 5, 4, 1, 2, 2, 1, 1, 2, 4, 1, 1, 2, 1, 2, 2, 1, 5, 5, 3, 1, 1, 3, 1, 2, 3, 4, 3, 1, 5, 1, 2, 4, 2, 4, 2, 3, 4, 4, 2, 4, 5, 5, 3, 3, 3, 3, 4, 1, 4, 1, 5, 1, 2, 3, 4, 4, 3, 1, 5, 3, 2, 1, 2, 4, 4, 1, 2, 4, 1, 4, 1, 2, 3, 4, 1, 3, 1, 3, 2, 4, 5, 3, 3, 3, 1, 4, 4, 5, 4, 1, 2, 3, 1, 1, 3, 1, 2, 4, 1, 4, 2, 2, 3, 3, 4, 3, 1, 2, 5, 1, 2, 3, 1, 3, 3, 1, 3, 1, 5, 2, 4, 4, 2, 2, 2, 1, 3, 1, 2, 3, 4, 1, 2, 3, 2, 4, 1, 4, 2, 4, 4, 5, 1, 2, 3, 4, 5, 5, 1, 2, 3, 5, 4, 1, 2, 4, 4, 3, 5, 3, 5, 5, 1, 2, 4, 2, 4, 2, 4, 1, 2, 3, 4, 2, 1, 3, 1, 1, 2, 4, 1, 2, 1, 2, 4, 1, 2, 3, 1, 2, 3, 4, 1, 1, 1, 3, 1, 2, 4, 3, 3, 1, 3, 2, 2, 2, 4, 4, 4, 1, 4, 4, 1, 2, 4, 1, 2, 3, 4, 1, 4, 1, 3, 5, 2, 4, 2, 3, 2, 3, 1, 4, 2, 1, 4, 1, 2, 4, 2, 4, 1, 2, 1, 2, 5, 5, 3, 3, 5, 5, 1, 2, 3, 1, 1, 4, 4, 4, 5, 4, 4, 4, 2, 5, 1, 4, 2, 5, 1, 2, 3, 3, 1, 2, 3, 4, 2, 5, 5, 2, 4, 2, 4, 3, 4, 3, 2, 3, 2, 4, 2, 4, 5, 1, 1, 1, 2, 4, 4, 1, 4, 2, 5, 3, 5, 3, 1, 3, 1, 1, 4, 5, 1, 2, 4, 5, 1, 5, 3, 4, 1, 1, 5, 5, 5, 1, 3, 1, 3, 2, 3, 5, 1, 1, 2, 3, 3, 1, 3, 4, 5, 2, 1, 4, 1, 2, 4, 2, 2, 4, 2, 4, 1, 4, 1, 2, 3, 4, 5, 2, 1, 3, 4, 1, 2, 3, 4, 1, 5, 1, 5, 1, 2, 2, 2, 2, 2, 4, 2, 3, 2, 1, 2, 1, 2, 3, 4, 4, 1, 2, 3, 4, 2, 1, 4, 2, 4, 1, 3, 1, 4], \"Freq\": [0.9993020296096802, 0.9846718311309814, 0.9962403774261475, 0.9986482262611389, 0.9969386458396912, 0.999121904373169, 0.9987105131149292, 0.0865582600235939, 0.8609455823898315, 0.05255323275923729, 0.9993323683738708, 0.24954360723495483, 0.7498481273651123, 0.9973093867301941, 0.0018834926886484027, 0.9977467060089111, 0.9985743761062622, 0.9903479218482971, 0.9925978779792786, 0.9989424347877502, 0.9994215369224548, 0.958385705947876, 0.04162254184484482, 0.6662684679031372, 0.23613467812538147, 0.09568282216787338, 0.0017556481761857867, 0.9970143437385559, 0.997791588306427, 0.9941827654838562, 0.08703219145536423, 0.02454754151403904, 0.8859431147575378, 0.2752703130245209, 0.7229991555213928, 0.7485747933387756, 0.25092676281929016, 0.999327540397644, 0.9982098937034607, 0.26833266019821167, 0.730349063873291, 0.9786609411239624, 0.9930180311203003, 0.999208927154541, 0.9996421337127686, 0.9984951615333557, 0.9987931251525879, 0.995004415512085, 0.8997365832328796, 0.09967539459466934, 0.9980849623680115, 0.9908124804496765, 0.5900744199752808, 0.40068528056144714, 0.007773435674607754, 0.0007066759862937033, 0.997931718826294, 0.9987686276435852, 0.998659610748291, 0.9863824844360352, 0.9991700649261475, 0.9971846342086792, 0.023050034418702126, 0.14914728701114655, 0.8270894885063171, 0.9959665536880493, 0.29019880294799805, 0.3953306972980499, 0.31452682614326477, 0.07213503122329712, 0.9266576766967773, 0.08545022457838058, 0.7764825224876404, 0.11517204344272614, 0.022291364148259163, 0.9466660022735596, 0.053249962627887726, 0.1843203902244568, 0.8147129416465759, 0.9951913952827454, 0.5427602529525757, 0.4500938951969147, 0.9979258179664612, 0.9973544478416443, 0.9989659190177917, 0.1583145260810852, 0.8379086256027222, 0.9965140223503113, 0.9952203631401062, 0.9961148500442505, 0.37092259526252747, 0.01596686616539955, 0.6128820180892944, 0.997067391872406, 0.9665413498878479, 0.03158631920814514, 0.5130339860916138, 0.25058823823928833, 0.23635925352573395, 0.9917863607406616, 0.00732847023755312, 0.9988925457000732, 0.9967339038848877, 0.9985947012901306, 0.04992831498384476, 0.9486379623413086, 0.9974653124809265, 0.03558846190571785, 0.5490791201591492, 0.41180935502052307, 0.8317893147468567, 0.007887289859354496, 0.16030383110046387, 0.0691986083984375, 0.9304551482200623, 0.9980915188789368, 0.9991093873977661, 0.9981433749198914, 0.9977752566337585, 0.9806261658668518, 0.8661965727806091, 0.13375094532966614, 0.9933410882949829, 0.9970484375953674, 0.9980262517929077, 0.9965024590492249, 0.708845853805542, 0.2910963296890259, 0.00192843668628484, 0.8711712956428528, 0.12341994792222977, 0.0033747642301023006, 0.9997862577438354, 0.9910802245140076, 0.005475581157952547, 0.9975416660308838, 0.9965335726737976, 0.8476750254631042, 0.15180234611034393, 0.05205483362078667, 0.945662796497345, 0.9960023760795593, 0.9903066754341125, 0.30004799365997314, 0.08537951111793518, 0.14880429208278656, 0.46470847725868225, 0.9980038404464722, 0.9848089814186096, 0.27792975306510925, 0.7199385762214661, 0.9979977607727051, 0.9854166507720947, 0.9986854195594788, 0.0635804831981659, 0.7670414447784424, 0.1695479452610016, 0.9946057200431824, 0.3468169569969177, 0.6402774453163147, 0.36483150720596313, 0.6314391493797302, 0.9925269484519958, 0.010345627553761005, 0.9483492374420166, 0.04138251021504402, 0.8959580659866333, 0.10318135470151901, 0.9337641596794128, 0.06392990797758102, 0.5448320508003235, 0.2819223701953888, 0.157745823264122, 0.015447800979018211, 0.9976044297218323, 0.7408304810523987, 0.2589782178401947, 0.9963231086730957, 0.7851834893226624, 0.19769199192523956, 0.0178704634308815, 0.3512754738330841, 0.6488264203071594, 0.3480558693408966, 0.2037840038537979, 0.44904619455337524, 0.07528074830770493, 0.8197237253189087, 0.1045565977692604, 0.9123585820198059, 0.030667515471577644, 0.008944692090153694, 0.04727908596396446, 0.9971596002578735, 0.9993702173233032, 0.4003766179084778, 0.5978957414627075, 0.9962279796600342, 0.854919970035553, 0.14285868406295776, 0.9992149472236633, 0.9994169473648071, 0.3712158501148224, 0.6281453371047974, 0.9980365037918091, 0.9934042096138, 0.9994394779205322, 0.99506014585495, 0.9985185265541077, 0.9963948130607605, 0.997920572757721, 0.9954177737236023, 0.9983527660369873, 0.38616347312927246, 0.15549059212207794, 0.4579283595085144, 0.02721383422613144, 0.16956311464309692, 0.06280115246772766, 0.7410536408424377, 0.5306363701820374, 0.4686979651451111, 0.9609697461128235, 0.038767728954553604, 0.9734370708465576, 0.9941087961196899, 0.9968810081481934, 0.658064067363739, 0.34163326025009155, 0.18238958716392517, 0.8171576261520386, 0.3458779454231262, 0.6513285636901855, 0.9982757568359375, 0.9981114864349365, 0.9955804944038391, 0.3891184329986572, 0.5622828006744385, 0.04813836142420769, 0.17174893617630005, 0.8271989226341248, 0.9821651577949524, 0.01769470050930977, 0.997740626335144, 0.9981011748313904, 0.983253002166748, 0.9944310784339905, 0.9991422295570374, 0.26579123735427856, 0.7258145213127136, 0.9895524382591248, 0.8738614320755005, 0.00384537479840219, 0.1220906525850296, 0.9961706399917603, 0.9984945058822632, 0.9952256679534912, 0.9974097609519958, 0.9976063966751099, 0.9893046617507935, 0.9919748306274414, 0.9926961660385132, 0.9927353858947754, 0.9988608360290527, 0.9832844734191895, 0.6714444160461426, 0.327728807926178, 0.9938653111457825, 0.9932653307914734, 0.4992660880088806, 0.014242138713598251, 0.4858151972293854, 0.9981526136398315, 0.40453609824180603, 0.5084614753723145, 0.03263773024082184, 0.05410992354154587, 0.24012047052383423, 0.7590905427932739, 0.9959309101104736, 0.9216147661209106, 0.0765460729598999, 0.9541455507278442, 0.045038338750600815, 0.9981945753097534, 0.9972897171974182, 0.9976288080215454, 0.9987226128578186, 0.9988880753517151, 0.9913579225540161, 0.006522091571241617, 0.9885262250900269, 0.004729790613055229, 0.9900156855583191, 0.9953086972236633, 0.9981704354286194, 0.7164413332939148, 0.21902470290660858, 0.06426645815372467, 0.9969436526298523, 0.34310466051101685, 0.6569523215293884, 0.9981352090835571, 0.9892562031745911, 0.9969943761825562, 0.9820478558540344, 0.9980261921882629, 0.9984437227249146, 0.9973852038383484, 0.9983224868774414, 0.8427417278289795, 0.1569557636976242, 0.9860578775405884, 0.07690754532814026, 0.4927779734134674, 0.014242137782275677, 0.41587042808532715, 0.3474416434764862, 0.6462414860725403, 0.9977414608001709, 0.9991821050643921, 0.9962487816810608, 0.7401918768882751, 0.2589012086391449, 0.9817096590995789, 0.99036705493927, 0.9990418553352356, 0.9991130828857422, 0.178267702460289, 0.8210126757621765, 0.6925859451293945, 0.3027551770210266, 0.004018873907625675, 0.9991670250892639, 0.031806498765945435, 0.9661223888397217, 0.9985877275466919, 0.9982619285583496, 0.05589030683040619, 0.9434283971786499, 0.992648184299469, 0.9899800419807434, 0.9969415068626404, 0.23461739718914032, 0.7617447972297668, 0.421686589717865, 0.45147329568862915, 0.12673959136009216, 0.9982405304908752, 0.7398982048034668, 0.25970640778541565, 0.8232273459434509, 0.1758236587047577, 0.9704515337944031, 0.026832761242985725, 0.5505127310752869, 0.014560161158442497, 0.41392457485198975, 0.020800229161977768, 0.9764699935913086, 0.9979887008666992, 0.27488720417022705, 0.08508413285017014, 0.6392217874526978, 0.8038737773895264, 0.03215495124459267, 0.04072960466146469, 0.12326064705848694, 0.966736376285553, 0.03333573788404465, 0.6157065629959106, 0.3833644688129425, 0.4661142826080322, 0.5331732034683228, 0.9991891980171204, 0.997840940952301, 0.9990943670272827, 0.9095041155815125, 0.08916707336902618, 0.7402679920196533, 0.25863194465637207, 0.9963826537132263, 0.09825224429368973, 0.9013575911521912, 0.4856198728084564, 0.43828848004341125, 0.029345449060201645, 0.047331370413303375, 0.9969261288642883, 0.18115098774433136, 0.7582751512527466, 0.01818244159221649, 0.042425695806741714, 0.9951984286308289, 0.28989148139953613, 0.7100076079368591, 0.9929845333099365, 0.006073299795389175, 0.977388322353363, 0.02072201296687126, 0.35006171464920044, 0.6491435766220093], \"Term\": [\"amazing\", \"answered\", \"appointment\", \"area\", \"arrived\", \"asked\", \"atmosphere\", \"away\", \"away\", \"away\", \"awesome\", \"bad\", \"bad\", \"bar\", \"bar\", \"basically\", \"beautiful\", \"bed\", \"beds\", \"beef\", \"beer\", \"best\", \"best\", \"better\", \"better\", \"better\", \"better\", \"bread\", \"burger\", \"bus\", \"business\", \"business\", \"business\", \"called\", \"called\", \"came\", \"came\", \"car\", \"card\", \"care\", \"care\", \"carpet\", \"casino\", \"cheese\", \"chicken\", \"chips\", \"chocolate\", \"class\", \"clean\", \"clean\", \"coffee\", \"color\", \"come\", \"come\", \"come\", \"come\", \"company\", \"cooked\", \"cool\", \"country\", \"cream\", \"crispy\", \"customer\", \"customer\", \"customer\", \"date\", \"day\", \"day\", \"day\", \"days\", \"days\", \"decided\", \"decided\", \"decided\", \"decided\", \"definitely\", \"definitely\", \"delicious\", \"delicious\", \"delivery\", \"desk\", \"desk\", \"dessert\", \"dish\", \"dishes\", \"dog\", \"dog\", \"dogs\", \"donuts\", \"dr\", \"eat\", \"eat\", \"eat\", \"especially\", \"excellent\", \"excellent\", \"experience\", \"experience\", \"experience\", \"fast\", \"fast\", \"finally\", \"finished\", \"fish\", \"fix\", \"fix\", \"flavor\", \"floor\", \"floor\", \"floor\", \"food\", \"food\", \"food\", \"fresh\", \"fresh\", \"fried\", \"friendly\", \"fries\", \"fun\", \"furniture\", \"gave\", \"gave\", \"gel\", \"girl\", \"giving\", \"glass\", \"good\", \"good\", \"got\", \"got\", \"got\", \"got\", \"great\", \"greeted\", \"greeted\", \"guess\", \"hair\", \"happy\", \"happy\", \"help\", \"help\", \"helped\", \"hole\", \"home\", \"home\", \"home\", \"home\", \"hotel\", \"hotels\", \"hour\", \"hour\", \"ice\", \"informative\", \"job\", \"know\", \"know\", \"know\", \"knowledgeable\", \"knows\", \"knows\", \"la\", \"la\", \"le\", \"leave\", \"leave\", \"leave\", \"left\", \"left\", \"let\", \"let\", \"like\", \"like\", \"like\", \"like\", \"line\", \"little\", \"little\", \"local\", \"location\", \"location\", \"location\", \"long\", \"long\", \"look\", \"look\", \"look\", \"looked\", \"looked\", \"looked\", \"lot\", \"lot\", \"lot\", \"lot\", \"lots\", \"love\", \"lunch\", \"lunch\", \"makes\", \"manager\", \"manager\", \"meal\", \"meat\", \"menu\", \"menu\", \"min\", \"minute\", \"minutes\", \"month\", \"months\", \"moved\", \"music\", \"nail\", \"nails\", \"need\", \"need\", \"need\", \"needed\", \"needed\", \"needed\", \"needed\", \"new\", \"new\", \"nice\", \"nice\", \"noise\", \"noticed\", \"office\", \"order\", \"order\", \"ordered\", \"ordered\", \"owner\", \"owner\", \"party\", \"patio\", \"pedicure\", \"people\", \"people\", \"people\", \"phone\", \"phone\", \"place\", \"place\", \"plenty\", \"pm\", \"points\", \"pool\", \"pork\", \"possible\", \"possible\", \"pour\", \"pretty\", \"pretty\", \"pretty\", \"priced\", \"prices\", \"process\", \"products\", \"professional\", \"property\", \"purchase\", \"purchased\", \"questions\", \"ready\", \"reasonably\", \"recommend\", \"recommend\", \"reservation\", \"resort\", \"restaurant\", \"restaurant\", \"restaurant\", \"rice\", \"right\", \"right\", \"right\", \"right\", \"room\", \"room\", \"rooms\", \"rude\", \"rude\", \"said\", \"said\", \"salad\", \"salon\", \"sandwich\", \"sat\", \"sauce\", \"saw\", \"saw\", \"saying\", \"saying\", \"scheduled\", \"seating\", \"selection\", \"service\", \"service\", \"service\", \"services\", \"shop\", \"shop\", \"showed\", \"shower\", \"shrimp\", \"sleep\", \"soup\", \"space\", \"spicy\", \"spot\", \"staff\", \"staff\", \"state\", \"stay\", \"stay\", \"stay\", \"stay\", \"stayed\", \"stayed\", \"steak\", \"store\", \"street\", \"strip\", \"strip\", \"stylist\", \"suite\", \"super\", \"sushi\", \"sweet\", \"sweet\", \"table\", \"table\", \"table\", \"tacos\", \"taking\", \"taking\", \"taste\", \"tasted\", \"tasty\", \"tasty\", \"team\", \"technician\", \"terrible\", \"thank\", \"thank\", \"time\", \"time\", \"time\", \"tip\", \"told\", \"told\", \"took\", \"took\", \"town\", \"town\", \"try\", \"try\", \"try\", \"try\", \"tub\", \"understand\", \"use\", \"use\", \"use\", \"ve\", \"ve\", \"ve\", \"ve\", \"vegas\", \"vegas\", \"view\", \"view\", \"wait\", \"wait\", \"waited\", \"waiting\", \"walked\", \"wanted\", \"wanted\", \"wasn\", \"wasn\", \"waste\", \"water\", \"water\", \"way\", \"way\", \"way\", \"way\", \"weeks\", \"went\", \"went\", \"went\", \"went\", \"weren\", \"work\", \"work\", \"worst\", \"worst\", \"worth\", \"worth\", \"years\", \"years\"]}, \"R\": 30, \"lambda.step\": 0.01, \"plot.opts\": {\"xlab\": \"PC1\", \"ylab\": \"PC2\"}, \"topic.order\": [1, 3, 5, 2, 4]};\n",
       "\n",
       "function LDAvis_load_lib(url, callback){\n",
       "  var s = document.createElement('script');\n",
       "  s.src = url;\n",
       "  s.async = true;\n",
       "  s.onreadystatechange = s.onload = callback;\n",
       "  s.onerror = function(){console.warn(\"failed to load library \" + url);};\n",
       "  document.getElementsByTagName(\"head\")[0].appendChild(s);\n",
       "}\n",
       "\n",
       "if(typeof(LDAvis) !== \"undefined\"){\n",
       "   // already loaded: just create the visualization\n",
       "   !function(LDAvis){\n",
       "       new LDAvis(\"#\" + \"ldavis_el183851403837153777043046385129\", ldavis_el183851403837153777043046385129_data);\n",
       "   }(LDAvis);\n",
       "}else if(typeof define === \"function\" && define.amd){\n",
       "   // require.js is available: use it to load d3/LDAvis\n",
       "   require.config({paths: {d3: \"https://cdnjs.cloudflare.com/ajax/libs/d3/3.5.5/d3.min\"}});\n",
       "   require([\"d3\"], function(d3){\n",
       "      window.d3 = d3;\n",
       "      LDAvis_load_lib(\"https://cdn.rawgit.com/bmabey/pyLDAvis/files/ldavis.v1.0.0.js\", function(){\n",
       "        new LDAvis(\"#\" + \"ldavis_el183851403837153777043046385129\", ldavis_el183851403837153777043046385129_data);\n",
       "      });\n",
       "    });\n",
       "}else{\n",
       "    // require.js not available: dynamically load d3 & LDAvis\n",
       "    LDAvis_load_lib(\"https://cdnjs.cloudflare.com/ajax/libs/d3/3.5.5/d3.min.js\", function(){\n",
       "         LDAvis_load_lib(\"https://cdn.rawgit.com/bmabey/pyLDAvis/files/ldavis.v1.0.0.js\", function(){\n",
       "                 new LDAvis(\"#\" + \"ldavis_el183851403837153777043046385129\", ldavis_el183851403837153777043046385129_data);\n",
       "            })\n",
       "         });\n",
       "}\n",
       "</script>"
      ],
      "text/plain": [
       "PreparedData(topic_coordinates=              x         y  topics  cluster       Freq\n",
       "topic                                                \n",
       "0      0.182720 -0.046415       1        1  35.778946\n",
       "2      0.068048 -0.137525       2        1  22.980371\n",
       "4      0.150452  0.280114       3        1  20.278162\n",
       "1     -0.076313 -0.223464       4        1  16.659849\n",
       "3     -0.324908  0.127290       5        1   4.302671, topic_info=     Category         Freq         Term        Total  loglift  logprob\n",
       "208   Default  4186.000000        great  4186.000000  30.0000  30.0000\n",
       "133   Default  4577.000000        place  4577.000000  29.0000  29.0000\n",
       "144   Default  4691.000000         food  4691.000000  28.0000  28.0000\n",
       "103   Default   903.000000         room   903.000000  27.0000  27.0000\n",
       "40    Default  4366.000000         good  4366.000000  26.0000  26.0000\n",
       "75    Default  2074.000000          got  2074.000000  25.0000  25.0000\n",
       "1277  Default  1362.000000      chicken  1362.000000  24.0000  24.0000\n",
       "1266  Default  1529.000000      ordered  1529.000000  23.0000  23.0000\n",
       "735   Default  1624.000000         love  1624.000000  22.0000  22.0000\n",
       "122   Default  1873.000000         best  1873.000000  21.0000  21.0000\n",
       "30    Default  1198.000000         said  1198.000000  20.0000  20.0000\n",
       "192   Default  1416.000000      amazing  1416.000000  19.0000  19.0000\n",
       "39    Default  1399.000000     friendly  1399.000000  18.0000  18.0000\n",
       "25    Default   957.000000      minutes   957.000000  17.0000  17.0000\n",
       "359   Default  1188.000000    delicious  1188.000000  16.0000  16.0000\n",
       "92    Default  1702.000000         nice  1702.000000  15.0000  15.0000\n",
       "349   Default   864.000000       cheese   864.000000  14.0000  14.0000\n",
       "371   Default   939.000000        fresh   939.000000  13.0000  13.0000\n",
       "37    Default  1426.000000         came  1426.000000  12.0000  12.0000\n",
       "1940  Default   406.000000        hotel   406.000000  11.0000  11.0000\n",
       "34    Default  3424.000000         time  3424.000000  10.0000  10.0000\n",
       "387   Default  1428.000000        order  1428.000000   9.0000   9.0000\n",
       "812   Default   674.000000        store   674.000000   8.0000   8.0000\n",
       "400   Default   749.000000        sauce   749.000000   7.0000   7.0000\n",
       "421   Default   796.000000        asked   796.000000   6.0000   6.0000\n",
       "545   Default   719.000000         meal   719.000000   5.0000   5.0000\n",
       "45    Default  3469.000000      service  3469.000000   4.0000   4.0000\n",
       "117   Default  1484.000000         went  1484.000000   3.0000   3.0000\n",
       "535   Default   883.000000         work   883.000000   2.0000   2.0000\n",
       "137   Default  1061.000000          bar  1061.000000   1.0000   1.0000\n",
       "...       ...          ...          ...          ...      ...      ...\n",
       "3488   Topic5    65.598778          bus    66.386185   3.1340  -5.7531\n",
       "1258   Topic5    66.079765      country    66.911163   3.1334  -5.7458\n",
       "76     Topic5    62.172421       hotels    62.956371   3.1334  -5.8068\n",
       "96     Topic5    62.883499     property    63.681091   3.1333  -5.7954\n",
       "1891   Topic5    61.404667    furniture    62.205151   3.1330  -5.8192\n",
       "2739   Topic5    61.333855      stylist    62.136497   3.1329  -5.8203\n",
       "2451   Topic5    65.141212     answered    66.011841   3.1327  -5.7601\n",
       "1930   Topic5    58.477016       carpet    59.264652   3.1326  -5.8680\n",
       "2485   Topic5    64.773636   technician    65.657890   3.1324  -5.7658\n",
       "4450   Topic5    60.066341  informative    60.887951   3.1323  -5.8412\n",
       "3846   Topic5    57.253689        sleep    58.041977   3.1323  -5.8892\n",
       "101    Topic5    53.572681       resort    54.366138   3.1312  -5.9556\n",
       "3324   Topic5    53.957603        state    54.763519   3.1311  -5.9485\n",
       "3990   Topic5    51.613537           le    52.391525   3.1310  -5.9929\n",
       "3998   Topic5    46.714146         pour    47.496220   3.1293  -6.0926\n",
       "2592   Topic5    46.568367         beds    47.350494   3.1293  -6.0957\n",
       "2648   Topic5    47.330208          tub    48.132561   3.1291  -6.0795\n",
       "3152   Topic5    46.997177       points    47.800514   3.1290  -6.0866\n",
       "8939   Topic5    47.468914        noise    48.282524   3.1289  -6.0766\n",
       "4519   Topic5    47.662720    scheduled    48.484081   3.1288  -6.0725\n",
       "103    Topic5   686.456421         room   903.713013   2.8710  -3.4051\n",
       "105    Topic5    92.899223       stayed   143.909058   2.7083  -5.4052\n",
       "3052   Topic5    90.252785           la   142.531555   2.6890  -5.4341\n",
       "3323   Topic5    71.281799     possible    97.821136   2.8294  -5.6700\n",
       "522    Topic5   145.954758         stay   351.070892   2.2682  -4.9534\n",
       "4705   Topic5    72.398453        knows   112.451248   2.7056  -5.6545\n",
       "457    Topic5    81.206673        floor   196.692963   2.2613  -5.5397\n",
       "444    Topic5    68.187874         desk   151.079590   2.3504  -5.7144\n",
       "1483   Topic5    78.116234        strip   301.273224   1.7961  -5.5785\n",
       "530    Topic5    65.643143         view   172.159927   2.1817  -5.7524\n",
       "\n",
       "[295 rows x 6 columns], token_table=      Topic      Freq         Term\n",
       "term                              \n",
       "192       1  0.999302      amazing\n",
       "2451      5  0.984672     answered\n",
       "562       4  0.996240  appointment\n",
       "50        1  0.998648         area\n",
       "1925      2  0.996939      arrived\n",
       "421       2  0.999122        asked\n",
       "658       1  0.998711   atmosphere\n",
       "238       1  0.086558         away\n",
       "238       2  0.860946         away\n",
       "238       4  0.052553         away\n",
       "339       1  0.999332      awesome\n",
       "136       1  0.249544          bad\n",
       "136       2  0.749848          bad\n",
       "137       1  0.997309          bar\n",
       "137       2  0.001883          bar\n",
       "1177      2  0.997747    basically\n",
       "626       1  0.998574    beautiful\n",
       "1928      5  0.990348          bed\n",
       "2592      5  0.992598         beds\n",
       "1848      3  0.998942         beef\n",
       "1097      1  0.999422         beer\n",
       "122       1  0.958386         best\n",
       "122       3  0.041623         best\n",
       "426       1  0.666268       better\n",
       "426       2  0.236135       better\n",
       "426       3  0.095683       better\n",
       "426       4  0.001756       better\n",
       "345       3  0.997014        bread\n",
       "2289      1  0.997792       burger\n",
       "3488      5  0.994183          bus\n",
       "...     ...       ...          ...\n",
       "36        1  0.466114         wait\n",
       "36        2  0.533173         wait\n",
       "1379      2  0.999189       waited\n",
       "414       2  0.997841      waiting\n",
       "333       2  0.999094       walked\n",
       "533       2  0.909504       wanted\n",
       "533       4  0.089167       wanted\n",
       "619       2  0.740268         wasn\n",
       "619       3  0.258632         wasn\n",
       "3003      2  0.996383        waste\n",
       "620       1  0.098252        water\n",
       "620       2  0.901358        water\n",
       "235       1  0.485620          way\n",
       "235       2  0.438288          way\n",
       "235       3  0.029345          way\n",
       "235       4  0.047331          way\n",
       "673       4  0.996926        weeks\n",
       "117       1  0.181151         went\n",
       "117       2  0.758275         went\n",
       "117       3  0.018182         went\n",
       "117       4  0.042426         went\n",
       "2340      2  0.995198        weren\n",
       "535       1  0.289891         work\n",
       "535       4  0.710008         work\n",
       "536       2  0.992985        worst\n",
       "536       4  0.006073        worst\n",
       "764       1  0.977388        worth\n",
       "764       3  0.020722        worth\n",
       "766       1  0.350062        years\n",
       "766       4  0.649144        years\n",
       "\n",
       "[402 rows x 3 columns], R=30, lambda_step=0.01, plot_opts={'xlab': 'PC1', 'ylab': 'PC2'}, topic_order=[1, 3, 5, 2, 4])"
      ]
     },
     "execution_count": 54,
     "metadata": {},
     "output_type": "execute_result"
    }
   ],
   "source": [
    "pyLDAvis.gensim.prepare(lda_model, corpus, id2word)"
   ]
  },
  {
   "cell_type": "markdown",
   "metadata": {},
   "source": [
    "### These topics seem better\n",
    "\n",
    "Good restaurants, bad restaurants, professional services, hotels and then another topic of restaurant reviews that use lots of adjectives to describe food and such, probably the kinds of reviews Darek used to get."
   ]
  },
  {
   "cell_type": "markdown",
   "metadata": {},
   "source": [
    "## Stretch Goals\n",
    "\n",
    "Complete one of more of these to push your score towards a three: \n",
    "* Incorporate named entity recognition into your analysis\n",
    "* Compare vectorization methods in the classification section\n",
    "* Analyze more (or all) of the yelp dataset - this one is v. hard. \n",
    "* Use a generator object on the reviews file - this would help you with the analyzing the whole dataset.\n",
    "* Incorporate any of the other yelp dataset entities in your analysis (business, users, etc.)"
   ]
  },
  {
   "cell_type": "markdown",
   "metadata": {},
   "source": [
    "## Oops, using a generator was a stretch goal. Guess I did that already."
   ]
  },
  {
   "cell_type": "code",
   "execution_count": 5,
   "metadata": {},
   "outputs": [
    {
     "ename": "ModuleNotFoundError",
     "evalue": "No module named 'wordcloud'",
     "output_type": "error",
     "traceback": [
      "\u001b[0;31m---------------------------------------------------------------------------\u001b[0m",
      "\u001b[0;31mModuleNotFoundError\u001b[0m                       Traceback (most recent call last)",
      "\u001b[0;32m<ipython-input-5-ba118bb6f960>\u001b[0m in \u001b[0;36m<module>\u001b[0;34m\u001b[0m\n\u001b[0;32m----> 1\u001b[0;31m \u001b[0;32mfrom\u001b[0m \u001b[0mwordcloud\u001b[0m \u001b[0;32mimport\u001b[0m \u001b[0mWordCloud\u001b[0m\u001b[0;34m,\u001b[0m \u001b[0mSTOPWORDS\u001b[0m\u001b[0;34m\u001b[0m\u001b[0;34m\u001b[0m\u001b[0m\n\u001b[0m\u001b[1;32m      2\u001b[0m \u001b[0;34m\u001b[0m\u001b[0m\n\u001b[1;32m      3\u001b[0m \u001b[0mfivestarreviews\u001b[0m \u001b[0;34m=\u001b[0m \u001b[0myelp\u001b[0m\u001b[0;34m[\u001b[0m\u001b[0myelp\u001b[0m\u001b[0;34m[\u001b[0m\u001b[0;34m'stars'\u001b[0m\u001b[0;34m]\u001b[0m \u001b[0;34m==\u001b[0m \u001b[0;36m5\u001b[0m\u001b[0;34m]\u001b[0m\u001b[0;34m\u001b[0m\u001b[0;34m\u001b[0m\u001b[0m\n\u001b[1;32m      4\u001b[0m \u001b[0mfivestarreviews\u001b[0m\u001b[0;34m[\u001b[0m\u001b[0;34m'tokens'\u001b[0m\u001b[0;34m]\u001b[0m \u001b[0;34m=\u001b[0m \u001b[0mfivestarreviews\u001b[0m\u001b[0;34m[\u001b[0m\u001b[0;34m'text'\u001b[0m\u001b[0;34m]\u001b[0m\u001b[0;34m.\u001b[0m\u001b[0mapply\u001b[0m\u001b[0;34m(\u001b[0m\u001b[0mtokenize\u001b[0m\u001b[0;34m)\u001b[0m\u001b[0;34m\u001b[0m\u001b[0;34m\u001b[0m\u001b[0m\n\u001b[1;32m      5\u001b[0m \u001b[0;34m\u001b[0m\u001b[0m\n",
      "\u001b[0;31mModuleNotFoundError\u001b[0m: No module named 'wordcloud'"
     ]
    }
   ],
   "source": [
    "from wordcloud import WordCloud, STOPWORDS\n",
    "\n",
    "fivestarreviews = yelp[yelp['stars'] == 5]\n",
    "fivestarreviews['tokens'] = fivestarreviews['text'].apply(tokenize)\n",
    "\n",
    "fivestarreviews = fivestarreviews.reset_index(drop=True)\n",
    "\n",
    "fivestartokens = fivestarreviews['tokens'].values\n",
    "\n",
    "wordcloud = WordCloud(\n",
    "    width = 3000,\n",
    "    height = 2000,\n",
    "    background_color = 'black',\n",
    "    stopwords = STOPWORDS\n",
    ").generate(str(fivestartokens))\n",
    "\n",
    "fig = plt.figure(\n",
    "    figsize=(10,7),\n",
    "    facecolor = 'k',\n",
    "    edgecolor = 'k'\n",
    ")\n",
    "plt.imshow(wordcloud, interpolation = 'bilinear')\n",
    "plt.axis('off')\n",
    "plt.tight_layout(pad=0)"
   ]
  }
 ],
 "metadata": {
  "kernelspec": {
   "display_name": "nlp",
   "language": "python",
   "name": "nlp"
  },
  "language_info": {
   "codemirror_mode": {
    "name": "ipython",
    "version": 3
   },
   "file_extension": ".py",
   "mimetype": "text/x-python",
   "name": "python",
   "nbconvert_exporter": "python",
   "pygments_lexer": "ipython3",
   "version": "3.7.3"
  },
  "toc-autonumbering": false
 },
 "nbformat": 4,
 "nbformat_minor": 2
}
